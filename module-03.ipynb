{
 "cells": [
  {
   "cell_type": "code",
   "execution_count": 1,
   "metadata": {},
   "outputs": [],
   "source": [
    "from pprint import pprint"
   ]
  },
  {
   "cell_type": "markdown",
   "metadata": {},
   "source": [
    "## Local Search - Genetic Algorithm\n",
    "\n",
    "There are some key ideas in the Genetic Algorithm.\n",
    "\n",
    "First, there is a problem of some kind that either *is* an optimization problem or the solution can be expressed in terms of an optimization problem.\n",
    "For example, if we wanted to minimize the function\n",
    "\n",
    "$$f(x) = \\sum (x_i - 0.5)^2$$\n",
    "\n",
    "where $n = 10$.\n",
    "This *is* an optimization problem. Normally, optimization problems are much, much harder.\n",
    "\n",
    "![Eggholder](http://www.sfu.ca/~ssurjano/egg.png)!\n",
    "\n",
    "The function we wish to optimize is often called the **objective function**.\n",
    "The objective function is closely related to the **fitness** function in the GA.\n",
    "If we have a **maximization** problem, then we can use the objective function directly as a fitness function.\n",
    "If we have a **minimization** problem, then we need to convert the objective function into a suitable fitness function, since fitness functions must always mean \"more is better\".\n",
    "\n",
    "Second, we need to *encode* candidate solutions using an \"alphabet\" analogous to G, A, T, C in DNA.\n",
    "This encoding can be quite abstract.\n",
    "You saw this in the Self Check.\n",
    "There a floating point number was encoded as bits, just as in a computer and a sophisticated decoding scheme was then required.\n",
    "\n",
    "Sometimes, the encoding need not be very complicated at all.\n",
    "For example, in the real-valued GA, discussed in the Lectures, we could represent 2.73 as....2.73.\n",
    "This is similarly true for a string matching problem.\n",
    "We *could* encode \"a\" as \"a\", 97, or '01100001'.\n",
    "And then \"hello\" would be:\n",
    "\n",
    "```\n",
    "[\"h\", \"e\", \"l\", \"l\", \"o\"]\n",
    "```\n",
    "\n",
    "or\n",
    "\n",
    "```\n",
    "[104, 101, 108, 108, 111]\n",
    "```\n",
    "\n",
    "or\n",
    "\n",
    "```\n",
    "0, 1, 1, 0, 1, 0, 0, 0, 0, 1, 1, 0, 0, 1, 0, 1, 0, 1, 1, 0, 1, 1, 0, 0, 0, 1, 1, 0, 1, 1, 0, 0, 0, 1, 1, 0, 1, 1, 1, 1\n",
    "```\n",
    "\n",
    "In Genetics terminology, this is the **chromosome** of the individual. And if this individual had the **phenotype** \"h\" for the first character then they would have the **genotype** for \"h\" (either as \"h\", 104, or 01101000).\n",
    "\n",
    "To keep it straight, think **geno**type is **genes** and **pheno**type is **phenomenon**, the actual thing that the genes express.\n",
    "So while we might encode a number as 10110110 (genotype), the number itself, 182, is what goes into the fitness function.\n",
    "The environment operates on zebras, not the genes for stripes."
   ]
  },
  {
   "cell_type": "code",
   "execution_count": 2,
   "metadata": {},
   "outputs": [],
   "source": [
    "ALPHABET = \"abcdefghijklmnopqrstuvwxyz \""
   ]
  },
  {
   "cell_type": "markdown",
   "metadata": {},
   "source": [
    "### generate_random_candidate\n",
    "* Generates a random population of candidate genotypes based on the length of the target string and the provided possible genotypes.\n",
    "* Args:\n",
    "    * **population_size** (int): The number of candidates to generate.\n",
    "    * **target_string** (str): The target string used to determine the length of each candidate genotype.\n",
    "    * **possible_genotypes** (str): A string of possible genotypes to use when generating each candidate.\n",
    "* Returns:\n",
    "    * **population** (list): A list containing the randomly generated candidate genotypes.\n"
   ]
  },
  {
   "cell_type": "code",
   "execution_count": 3,
   "metadata": {},
   "outputs": [],
   "source": [
    "import random\n",
    "def generate_random_candidate(length_of_genotype, possible_genotypes):\n",
    "    random_candidate = []\n",
    "    for _ in range(length_of_genotype):\n",
    "        random_character = random.choice(possible_genotypes)\n",
    "        random_candidate.append(random_character)\n",
    "    return random_candidate"
   ]
  },
  {
   "cell_type": "code",
   "execution_count": 4,
   "metadata": {},
   "outputs": [],
   "source": [
    "test_candidate_1 =  generate_random_candidate(3,ALPHABET)\n",
    "assert  len(test_candidate_1) == 3\n",
    "for char in test_candidate_1:\n",
    "    assert char in ALPHABET"
   ]
  },
  {
   "cell_type": "markdown",
   "metadata": {},
   "source": [
    "### generate_random_population"
   ]
  },
  {
   "cell_type": "code",
   "execution_count": 5,
   "metadata": {},
   "outputs": [],
   "source": [
    "def generate_random_population(population_size:int, target_string:str, possible_genotypes:list)->list:\n",
    "    population = []\n",
    "    target_size = len(target_string)\n",
    "    for _ in range(population_size):\n",
    "        candidate = generate_random_candidate(target_size, possible_genotypes)  # Use length of target string for candidate length\n",
    "        population.append(candidate)\n",
    "    return population"
   ]
  },
  {
   "cell_type": "code",
   "execution_count": 6,
   "metadata": {},
   "outputs": [],
   "source": [
    "population_size = 5\n",
    "target_string = \"hello\"\n",
    "possible_genotypes = [\"a\", \"b\", \"c\", \"d\", \"e\"]\n",
    "\n",
    "population = generate_random_population(population_size, target_string, possible_genotypes)\n",
    "assert len(population) == population_size\n",
    "for candidate in population:\n",
    "    for gene in candidate:\n",
    "        assert gene in possible_genotypes"
   ]
  },
  {
   "cell_type": "markdown",
   "metadata": {},
   "source": [
    "### calculate_similarity\n",
    "* Calculates the number of positions where the candidate and target strings have matching characters. This will be the measure for fitness of problem 1, the higher this is the better the candidate\n",
    "* Args:\n",
    "    * **candidate** (list): The candidate string to compare.\n",
    "    * **target** (str): The target string to compare against.\n",
    "    * **genomes** (any, optional): Additional data; not used in this function but needed for templating the config file. Defaults to `None`.\n",
    "* Returns:\n",
    "    * **similarity** (int): The count of matching characters between the candidate and target strings.\n"
   ]
  },
  {
   "cell_type": "code",
   "execution_count": 7,
   "metadata": {},
   "outputs": [],
   "source": [
    "def calculate_similarity(candidate, target,genomes=None):\n",
    "    similarity = 0\n",
    "    for i in range(len(target)):\n",
    "        if candidate[i] == target[i]:\n",
    "            similarity += 1\n",
    "    return similarity"
   ]
  },
  {
   "cell_type": "code",
   "execution_count": 8,
   "metadata": {},
   "outputs": [],
   "source": [
    "candidate = [\"a\", \"b\", \"c\"]\n",
    "target = 'cba'\n",
    "\n",
    "similarity = calculate_similarity(candidate, target)\n",
    "assert similarity == 1\n",
    "candidate = [\"c\",\"b\",\"a\"]\n",
    "similarity = calculate_similarity(candidate, target)\n",
    "assert similarity == 3\n",
    "candidate = [\"x\",\"y\",\"z\"]\n",
    "similarity = calculate_similarity(candidate, target)\n",
    "assert similarity == 0"
   ]
  },
  {
   "cell_type": "markdown",
   "metadata": {},
   "source": [
    "### evaluate\n",
    "* Evaluates the fitness of each candidate in a population against a target using a specified fitness function.\n",
    "* Args:\n",
    "    * **population** (list): A list of candidate solutions to be evaluated.\n",
    "    * **target** (any): The target value or data that candidates are compared against.\n",
    "    * **fitness_function** (callable): A function that computes the fitness score of a candidate. It should accept arguments `(candidate, target, genomes)`.\n",
    "    * **genomes** (any, optional): Additional data that may be required by the fitness function. Defaults to `None`.\n",
    "* Returns:\n",
    "    * **fitness_scores** (list(tuples)): A list of fitness scores corresponding to each candidate in the population.\n"
   ]
  },
  {
   "cell_type": "code",
   "execution_count": 9,
   "metadata": {},
   "outputs": [],
   "source": [
    "def evaluate(population, target, fitness_function:callable, genomes = None):\n",
    "    fitness_scores = []\n",
    "    for candidate in population:\n",
    "        fitness = fitness_function(candidate, target, genomes)\n",
    "        fitness_scores.append(fitness)\n",
    "    return fitness_scores"
   ]
  },
  {
   "cell_type": "code",
   "execution_count": 10,
   "metadata": {},
   "outputs": [],
   "source": [
    "population = [[\"a\", \"b\", \"c\"], [\"d\", \"e\", \"f\"], [\"g\", \"b\", \"i\"]]\n",
    "target = \"abc\"\n",
    "fitness_scores = evaluate(population, target, calculate_similarity)\n",
    "assert len(fitness_scores) == len(population)\n",
    "assert fitness_scores[0] == 3\n",
    "assert fitness_scores[1] == 0\n",
    "assert fitness_scores[2] == 1"
   ]
  },
  {
   "cell_type": "markdown",
   "metadata": {},
   "source": [
    "### tournament_selection\n",
    "* Selects the best individual from a randomly chosen subset (tournament) of the population based on their fitness scores. The randomization allows us to explore solution that we would otherwise not check with other algorithms such as hill-climbing\n",
    "* Args:\n",
    "    * **population** (list(list)): The list of individuals in the population.\n",
    "    * **fitness_scores** (list): The list of fitness scores corresponding to each individual in the population.\n",
    "    * **tournament_size** (int): The number of individuals to include in the tournament.\n",
    "* Returns:\n",
    "    * **best_individual** (list): The individual with the highest fitness score among the tournament participants.\n"
   ]
  },
  {
   "cell_type": "code",
   "execution_count": 11,
   "metadata": {},
   "outputs": [],
   "source": [
    "def tournament_selection(population, fitness_scores, tournament_size):\n",
    "\n",
    "    selected_indices = set()  \n",
    "    selected_individuals = []\n",
    "    \n",
    "    while len(selected_individuals) < tournament_size:\n",
    "        index = random.randint(0, len(population) - 1)\n",
    "        if index not in selected_indices:\n",
    "            selected_individuals.append((population[index], fitness_scores[index]))\n",
    "            selected_indices.add(index)  \n",
    "\n",
    "    best_individual = selected_individuals[0]\n",
    "\n",
    "    for individual in selected_individuals:\n",
    "        if individual[1] > best_individual[1]:\n",
    "            best_individual = individual\n",
    "\n",
    "    return best_individual[0]"
   ]
  },
  {
   "cell_type": "code",
   "execution_count": 12,
   "metadata": {},
   "outputs": [],
   "source": [
    "population = [[\"a\", \"b\", \"c\"], [\"d\", \"e\", \"f\"], [\"g\", \"h\", \"i\"]]\n",
    "fitness_scores = [10, 30, 20] \n",
    "tournament_size = 2\n",
    "\n",
    "selected_individual = tournament_selection(population, fitness_scores, tournament_size)\n",
    "\n",
    "assert selected_individual == [\"d\", \"e\", \"f\"] or selected_individual == [\"g\", \"h\", \"i\"]\n",
    "assert selected_individual in population\n",
    "selected_index = population.index(selected_individual)\n",
    "assert fitness_scores[selected_index] > min(fitness_scores)"
   ]
  },
  {
   "cell_type": "markdown",
   "metadata": {},
   "source": [
    "### mutate\n",
    "* Mutates a candidate by randomly changing characters with a given probability. This helps with not allowing the candidate to fall into a local maximum.\n",
    "\n",
    "* Args:\n",
    "    * candidate (list): The candidate to mutate.\n",
    "    * mutation_probability (float): The probability of mutating each character. Needs to be between 0 and 1\n",
    "        genomes (str): The string containing possible characters.\n",
    "\n",
    "* Returns:\n",
    "        list: The mutated candidate."
   ]
  },
  {
   "cell_type": "code",
   "execution_count": 13,
   "metadata": {},
   "outputs": [],
   "source": [
    "def mutate(candidate, mutation_probability, genomes):\n",
    "\n",
    "    mutated_candidate = []\n",
    "    for gene in candidate:\n",
    "        if random.random() < mutation_probability:\n",
    "            mutated_candidate.append(random.choice(genomes))\n",
    "        else:\n",
    "            mutated_candidate.append(gene)\n",
    "    return mutated_candidate"
   ]
  },
  {
   "cell_type": "code",
   "execution_count": 14,
   "metadata": {},
   "outputs": [],
   "source": [
    "candidate = [\"a\", \"b\", \"c\", \"d\", \"e\"]\n",
    "mutation_probability = 1.0\n",
    "genomes = \"abcdefghijklmnopqrstuvwxyz\"\n",
    "\n",
    "mutated_candidate = mutate(candidate, mutation_probability, genomes)\n",
    "assert mutated_candidate != candidate\n",
    "assert len(mutated_candidate) == len(candidate)\n",
    "\n",
    "mutation_probability = 0.0\n",
    "mutated_candidate = mutate(candidate, mutation_probability, genomes)\n",
    "assert mutated_candidate ==  candidate"
   ]
  },
  {
   "cell_type": "markdown",
   "metadata": {},
   "source": [
    "### reproduce \n",
    "* Performs crossover to reproduce two children from two parents. It will also call mutate to give a chance of mutation to each child\n",
    "\n",
    "\n",
    "* Args:\n",
    "  * parent1 (list): The first parent.\n",
    "  * parent2 (list): The second parent.\n",
    "  * crossover_probability (float): The probability of performing crossover.\n",
    "\n",
    "* Returns:\n",
    "  * tuple: Two children (child1, child2).\n"
   ]
  },
  {
   "cell_type": "code",
   "execution_count": 15,
   "metadata": {},
   "outputs": [],
   "source": [
    "def reproduce(parent1, parent2, crossover_probability, mutation_probability, genomes):\n",
    "\n",
    "    if random.random() < crossover_probability:\n",
    "        crossover_point = random.randint(0, len(parent1) - 1)\n",
    "        child1 = parent1[:crossover_point] + parent2[crossover_point:]\n",
    "        child2 = parent2[:crossover_point] + parent1[crossover_point:]\n",
    "    else:\n",
    "        child1, child2 = parent1, parent2  # No crossover, children are clones of the parents\n",
    "\n",
    "    child1 = mutate(child1,mutation_probability,genomes)\n",
    "    child2 = mutate(child2,mutation_probability,genomes)\n",
    "    return child1, child2"
   ]
  },
  {
   "cell_type": "code",
   "execution_count": 16,
   "metadata": {},
   "outputs": [],
   "source": [
    "parent1 = [\"a\", \"b\", \"c\", \"d\", \"e\"]\n",
    "parent2 = [\"v\", \"w\", \"x\", \"y\", \"z\"]\n",
    "crossover_probability = 1.0 \n",
    "mutation_probability = 0.0 \n",
    "genomes = \"abcdefghijklmnopqrstuvwxyz\"\n",
    "\n",
    "child1, child2 = reproduce(parent1, parent2, crossover_probability, mutation_probability, genomes)\n",
    "\n",
    "assert len(child1) == len(parent1)\n",
    "assert len(child2) == len(parent2)\n",
    "\n",
    "crossover_probability = 0.0 \n",
    "mutation_probability = 0.0 \n",
    "child1, child2 = reproduce(parent1, parent2, crossover_probability, mutation_probability, genomes)\n",
    "assert child1 == parent1\n",
    "assert child2 == parent2"
   ]
  },
  {
   "cell_type": "markdown",
   "metadata": {},
   "source": [
    "### best_global_candidate\n",
    "* Updates the best fitness score and genotype if a better candidate is found in the current population.\n",
    "* Args:\n",
    "    * **best_fitness** (float): The current best fitness score.\n",
    "    * **best_genotype** (list): The genotype corresponding to the current best fitness score.\n",
    "    * **population** (list(list)): The list of candidate genotypes in the current population.\n",
    "    * **fitness_scores** (list): The list of fitness scores corresponding to each genotype in the population.\n",
    "* Returns:\n",
    "    * **best_fitness** (float): The updated best fitness score.\n",
    "    * **best_genotype** (list): The updated genotype corresponding to the best fitness score.\n"
   ]
  },
  {
   "cell_type": "code",
   "execution_count": 17,
   "metadata": {},
   "outputs": [],
   "source": [
    "def best_global_candidate(best_fitness, best_genotype, population, fitness_scores):\n",
    "    max_fitness_score = max(fitness_scores)\n",
    "    best_index = fitness_scores.index(max_fitness_score)\n",
    "    current_best_genotype = population[best_index]\n",
    "    if max_fitness_score > best_fitness:\n",
    "        best_fitness = max_fitness_score\n",
    "        best_genotype = current_best_genotype\n",
    "    \n",
    "    return best_fitness, best_genotype"
   ]
  },
  {
   "cell_type": "code",
   "execution_count": 18,
   "metadata": {},
   "outputs": [],
   "source": [
    "best_fitness = 5\n",
    "best_genotype = [\"a\", \"b\", \"c\"]\n",
    "population = [[\"a\", \"b\", \"c\"], [\"d\", \"e\", \"f\"], [\"g\", \"h\", \"i\"]]\n",
    "fitness_scores = [5, 6, 4]\n",
    "\n",
    "new_best_fitness, new_best_genotype = best_global_candidate(best_fitness, best_genotype, population, fitness_scores)\n",
    "\n",
    "assert new_best_fitness == 6\n",
    "assert len(new_best_genotype) == 3\n",
    "assert new_best_genotype == [\"d\", \"e\", \"f\"]\n"
   ]
  },
  {
   "cell_type": "markdown",
   "metadata": {},
   "source": [
    "### display_best_candidate\n",
    "* Displays the best candidate from the current generation, including its fitness score, genotype, and phenotype.\n",
    "* Args:\n",
    "    * **generation** (int): The current generation number.\n",
    "    * **population** (list(list)): The list of candidate genotypes in the population.\n",
    "    * **fitness_scores** (list): The list of fitness scores corresponding to each genotype in the population.\n",
    "    * **decoder** (callable, optional): A function to decode the genotype into a phenotype. Defaults to `None`.\n",
    "    * **genomes** (any, optional): Additional data required by the decoder function. Defaults to `None`.\n",
    "* Returns:\n",
    "    * **None**\n"
   ]
  },
  {
   "cell_type": "code",
   "execution_count": 19,
   "metadata": {},
   "outputs": [],
   "source": [
    "def display_best_candidate(generation, population, fitness_scores, decoder=None, genomes=None):\n",
    "    max_fitness_score = max(fitness_scores)\n",
    "    best_index = fitness_scores.index(max_fitness_score)\n",
    "    current_best_candidate = population[best_index]\n",
    "    if decoder is None: \n",
    "        print(f\"Generation {generation}: Best fitness: {max_fitness_score}, \"\n",
    "              f\"Genotype: {current_best_candidate}, Phenotype: {''.join(current_best_candidate)}\")\n",
    "    else:\n",
    "        decoded_phenotype = decoder(current_best_candidate,genomes)\n",
    "        print(f\"Generation {generation}: Best fitness: {max_fitness_score}, \"\n",
    "              f\"Genotype: {current_best_candidate}, Phenotype: {''.join(decoded_phenotype)}\")"
   ]
  },
  {
   "cell_type": "markdown",
   "metadata": {},
   "source": [
    "<a id=\"genetic_algorithm\"></a>\n",
    "### genetic_algorithm\n",
    "* Executes the genetic algorithm to find the optimal solution based on the provided configuration parameters.\n",
    "* Args:\n",
    "    * **config** (dict): A dictionary containing configuration parameters for the genetic algorithm. Expected keys include:\n",
    "        * `'target'` (any): The target value or data the algorithm aims to optimize towards.\n",
    "        * `'genomes'` (str): Possible genotypes or genomic data required for generating the population.\n",
    "        * `'population_size'` (int): The number of individuals in the population.\n",
    "        * `'num_generations'` (int): The total number of generations to run the algorithm.\n",
    "        * `'crossover_probability'` (float): The probability that crossover will occur during reproduction. Should be between 0 and 1\n",
    "        * `'mutation_probability'` (float): The probability that mutation will occur during reproduction. Should be between 0 and 1\n",
    "        * `'tournament_size'` (int): The number of individuals participating in each tournament selection.\n",
    "        * `'fitness_function'` (callable): A function to evaluate the fitness of individuals. Should accept arguments `(candidate, target, genomes)`.\n",
    "        * `'decode_function'` (callable): A function to decode genotypes into phenotypes for display purposes. Should accept arguments `(genotype, genomes)`.\n",
    "* Returns:\n",
    "    * **best_individual** (list): The genotype of the best individual found after running the genetic algorithm.\n"
   ]
  },
  {
   "cell_type": "code",
   "execution_count": 20,
   "metadata": {},
   "outputs": [],
   "source": [
    "def genetic_algorithm(config): # add your formal parameterse\n",
    "    target, genomes = config['target'], config['genomes']\n",
    "    population_size, num_generations= config['population_size'], config['num_generations']\n",
    "    crossover_probability, mutation_probability = config['crossover_probability'], config['mutation_probability']\n",
    "    tournament_size, fitness_function = config['tournament_size'], config['fitness_function'] \n",
    "    population, generations = generate_random_population(population_size, target, genomes), 0\n",
    "    decode_function = config['decode_function']\n",
    "    best_fitness, best_genotype = -1, None\n",
    "    while generations < num_generations:\n",
    "        fitness_scores = evaluate(population, target,fitness_function,genomes)\n",
    "        best_fitness, best_genotype = best_global_candidate(best_fitness, best_genotype, population, fitness_scores)\n",
    "        next_population = []\n",
    "        for _ in range(population_size // 2):\n",
    "            parent1 = tournament_selection(population, fitness_scores, tournament_size)\n",
    "            parent2 = tournament_selection(population, fitness_scores, tournament_size)\n",
    "            child1, child2 = reproduce(parent1, parent2, crossover_probability, mutation_probability, genomes)\n",
    "            next_population.extend([child1, child2])\n",
    "        population, generations = next_population, generations + 1\n",
    "        if generations % 10 == 0:\n",
    "            display_best_candidate(generations, population,fitness_scores, decode_function,genomes)\n",
    "    best_index = fitness_scores.index(max(fitness_scores))\n",
    "    return population[best_index] # return the best individual of the entire run."
   ]
  },
  {
   "cell_type": "markdown",
   "metadata": {},
   "source": [
    "## Problem 1\n",
    "\n",
    "The target is the string \"this is so much fun\".\n",
    "The challenge, aside from implementing the basic algorithm, is deriving a fitness function based on \"b\" - \"p\" (for example).\n",
    "The fitness function should come up with a fitness score based on element to element comparisons between target v. phenotype."
   ]
  },
  {
   "cell_type": "code",
   "execution_count": 21,
   "metadata": {},
   "outputs": [],
   "source": [
    "target1 = \"this is so much fun\""
   ]
  },
  {
   "cell_type": "code",
   "execution_count": 22,
   "metadata": {},
   "outputs": [],
   "source": [
    "# set up if you need it.\n",
    "config = {\n",
    "    'target': target1,\n",
    "    'genomes': ALPHABET,\n",
    "    'population_size': 100,\n",
    "    'num_generations': 500,\n",
    "    'crossover_probability': 0.6,\n",
    "    'mutation_probability': 0.02,\n",
    "    'tournament_size': 5,\n",
    "    'fitness_function': calculate_similarity,\n",
    "    'decode_function': None\n",
    "}"
   ]
  },
  {
   "cell_type": "code",
   "execution_count": 23,
   "metadata": {},
   "outputs": [
    {
     "name": "stdout",
     "output_type": "stream",
     "text": [
      "Generation 10: Best fitness: 12, Genotype: ['t', 'h', 'i', 's', 'c', 'i', 's', 'e', 'c', 'v', 'b', 'h', 'u', 'n', 'h', ' ', 'q', 'u', 'n'], Phenotype: thiscisecvbhunh qun\n",
      "Generation 20: Best fitness: 15, Genotype: ['t', 'h', 'i', 's', 'c', 'i', 's', 'e', 's', 'f', ' ', 'h', 'u', 'n', 'h', ' ', 'f', 'u', 'n'], Phenotype: thiscisesf hunh fun\n",
      "Generation 30: Best fitness: 17, Genotype: ['t', 'h', 'i', 's', ' ', 'i', 's', ' ', 's', 'f', ' ', 'm', 'u', 'n', 'h', ' ', 'f', 'u', 'n'], Phenotype: this is sf munh fun\n",
      "Generation 40: Best fitness: 19, Genotype: ['t', 'h', 'i', 's', ' ', 'i', 's', ' ', 's', 'o', 'r', 'm', 'u', 'n', 'h', ' ', 'f', 'u', 'n'], Phenotype: this is sormunh fun\n",
      "Generation 50: Best fitness: 19, Genotype: ['t', 'h', 'i', 's', ' ', 'i', 's', ' ', 's', 'o', ' ', 'm', 'u', 'c', 'h', ' ', 'f', 'u', 'n'], Phenotype: this is so much fun\n",
      "Generation 60: Best fitness: 19, Genotype: ['t', 'h', 'i', 's', ' ', 'i', 's', ' ', 's', 'o', ' ', 'm', 'u', 'c', 'h', ' ', 'f', 'u', 'n'], Phenotype: this is so much fun\n",
      "Generation 70: Best fitness: 19, Genotype: ['t', 'h', 'i', 's', ' ', 'w', 's', ' ', 's', 'o', ' ', 'm', 'u', 'c', 'h', ' ', 'f', 'u', 'n'], Phenotype: this ws so much fun\n",
      "Generation 80: Best fitness: 19, Genotype: ['t', 'h', 'i', 's', ' ', 'i', 's', ' ', 's', 'o', ' ', 'm', 'u', 'c', 'h', ' ', 'f', 'u', 'n'], Phenotype: this is so much fun\n",
      "Generation 90: Best fitness: 19, Genotype: ['t', 'h', 'i', 's', ' ', 'i', 's', ' ', 's', 'o', ' ', 'm', 'u', 'c', 'h', ' ', 'f', 'u', 'n'], Phenotype: this is so much fun\n",
      "Generation 100: Best fitness: 19, Genotype: ['t', 'h', 'i', 's', ' ', 'i', 's', ' ', 's', 'o', ' ', 'm', 'u', 'c', 'h', ' ', 'f', 'u', 'n'], Phenotype: this is so much fun\n",
      "Generation 110: Best fitness: 19, Genotype: ['t', 'h', 'i', 'a', ' ', 'i', 's', ' ', 's', 'o', ' ', 'm', 'u', 'c', 'h', ' ', 'f', 'u', 'n'], Phenotype: thia is so much fun\n",
      "Generation 120: Best fitness: 19, Genotype: ['t', 'h', 'i', 's', ' ', 'i', 's', ' ', 's', 'o', ' ', 'm', 'u', 'c', 'h', ' ', 'f', 'u', 'n'], Phenotype: this is so much fun\n",
      "Generation 130: Best fitness: 19, Genotype: ['t', 'h', 'i', 's', ' ', 'i', 's', ' ', 's', 'o', ' ', 'm', 'u', 'c', 'h', ' ', 'f', 'u', 'n'], Phenotype: this is so much fun\n",
      "Generation 140: Best fitness: 19, Genotype: ['t', 'h', 'i', 's', ' ', 'i', 's', ' ', 's', 'o', ' ', 'm', 'u', 'c', 'h', ' ', 'f', 'u', 'n'], Phenotype: this is so much fun\n",
      "Generation 150: Best fitness: 19, Genotype: ['t', 'h', 'i', 's', ' ', 'i', 's', ' ', 's', 'o', ' ', 'm', 'u', 'c', 'h', ' ', 'f', 'u', 'n'], Phenotype: this is so much fun\n",
      "Generation 160: Best fitness: 19, Genotype: ['t', 'h', 'i', 's', ' ', 'i', 's', ' ', 's', 'o', ' ', 'm', 'u', 'c', 'h', ' ', 'f', 'u', 'n'], Phenotype: this is so much fun\n",
      "Generation 170: Best fitness: 19, Genotype: ['t', 'h', 'i', 's', ' ', 'i', 's', ' ', 's', 'o', ' ', 'm', 'u', 'c', 'h', ' ', 'f', 'h', 'n'], Phenotype: this is so much fhn\n",
      "Generation 180: Best fitness: 19, Genotype: ['t', 'h', 'i', 's', ' ', 'i', 's', ' ', 's', 'o', ' ', 'm', 'u', 'c', 'h', ' ', 'f', 'u', 'n'], Phenotype: this is so much fun\n",
      "Generation 190: Best fitness: 19, Genotype: ['t', 'h', 'i', 's', ' ', 'i', 's', ' ', 's', 'o', ' ', 'm', 'u', 'c', 'h', ' ', 'f', 'u', 'n'], Phenotype: this is so much fun\n",
      "Generation 200: Best fitness: 19, Genotype: ['t', 'h', 'i', 's', ' ', 'i', 's', ' ', 's', 'o', ' ', 'm', 'u', 'c', 'h', ' ', 'f', 'u', 'n'], Phenotype: this is so much fun\n",
      "Generation 210: Best fitness: 19, Genotype: ['t', 'h', 'i', 's', ' ', 'i', 's', ' ', 's', 'o', ' ', 'm', 'u', 'c', 'h', ' ', 'f', 'u', 'n'], Phenotype: this is so much fun\n",
      "Generation 220: Best fitness: 19, Genotype: ['t', 'h', 'i', 's', ' ', 'i', 's', ' ', 's', 'o', ' ', 'm', 'u', 'c', 'h', ' ', 'f', 'u', 'n'], Phenotype: this is so much fun\n",
      "Generation 230: Best fitness: 19, Genotype: ['t', 'h', 'i', 's', ' ', 'i', 's', ' ', 's', 'o', ' ', 'm', 'u', 'c', 'h', ' ', 'f', 'u', 'n'], Phenotype: this is so much fun\n",
      "Generation 240: Best fitness: 19, Genotype: ['t', 'h', 'i', 's', ' ', 'i', 's', ' ', 's', 'o', ' ', 'm', 'u', 'c', 'h', ' ', 'f', 'u', 'n'], Phenotype: this is so much fun\n",
      "Generation 250: Best fitness: 19, Genotype: ['t', 'h', 'i', 's', ' ', 'i', 's', ' ', 's', 'o', ' ', 'm', 'u', 'c', 'h', ' ', 'f', 'u', 'n'], Phenotype: this is so much fun\n",
      "Generation 260: Best fitness: 19, Genotype: ['t', 'h', 'i', 's', ' ', 'i', 's', ' ', 's', 'o', ' ', 'm', 'u', 'c', 'h', ' ', 'f', 'u', 'n'], Phenotype: this is so much fun\n",
      "Generation 270: Best fitness: 19, Genotype: ['t', 'h', 'i', 's', ' ', 'i', 's', ' ', 's', 'o', ' ', 'm', 'u', 'c', 'h', ' ', 'f', 'u', 'n'], Phenotype: this is so much fun\n",
      "Generation 280: Best fitness: 19, Genotype: ['t', 'h', 'i', 's', ' ', 'i', 's', ' ', 's', 'o', ' ', 'm', 'u', 'c', 'h', ' ', 'f', 'u', 'n'], Phenotype: this is so much fun\n",
      "Generation 290: Best fitness: 19, Genotype: ['t', 'h', 'i', 's', ' ', 'i', 's', ' ', 's', 'd', ' ', 'm', 'u', 'c', 'h', ' ', 'f', 'u', 'n'], Phenotype: this is sd much fun\n",
      "Generation 300: Best fitness: 19, Genotype: ['t', 'h', 'i', 's', ' ', 'i', 's', ' ', 's', 'o', ' ', 'm', 'u', 'c', 'h', ' ', 'f', 'u', 'n'], Phenotype: this is so much fun\n",
      "Generation 310: Best fitness: 19, Genotype: ['t', 'h', 'i', 's', ' ', 'i', 's', ' ', 's', 'o', ' ', 'm', 'u', 'c', 'h', ' ', 'f', 'u', 'n'], Phenotype: this is so much fun\n",
      "Generation 320: Best fitness: 19, Genotype: ['t', 'h', 'i', 's', ' ', 'i', 's', ' ', 's', 'o', ' ', 'm', 'u', 'c', 'h', ' ', 'f', 'u', 'n'], Phenotype: this is so much fun\n",
      "Generation 330: Best fitness: 19, Genotype: ['t', 'h', 'i', 's', ' ', 'i', 's', ' ', 's', 'o', ' ', 'm', 'u', 'c', 'h', ' ', 'f', 'u', 'n'], Phenotype: this is so much fun\n",
      "Generation 340: Best fitness: 19, Genotype: ['t', 'h', 'i', 's', ' ', 'i', 's', ' ', 's', 'o', ' ', 'm', 'u', 'c', 'h', ' ', 'f', 'u', 'n'], Phenotype: this is so much fun\n",
      "Generation 350: Best fitness: 19, Genotype: ['t', 'h', 'i', 's', ' ', 'i', 's', ' ', 's', 'o', ' ', 'm', 'u', 'c', 'h', ' ', 'f', 'u', 'n'], Phenotype: this is so much fun\n",
      "Generation 360: Best fitness: 19, Genotype: ['t', 'h', 'i', 's', ' ', 'i', 's', ' ', 's', 'o', ' ', 'm', 'u', 'd', 'h', ' ', 'f', 'u', 'n'], Phenotype: this is so mudh fun\n",
      "Generation 370: Best fitness: 19, Genotype: ['t', 'h', 'i', 's', ' ', 'i', 's', ' ', 's', 'o', ' ', 'm', 'u', 'c', 'h', ' ', 'f', 'u', 'n'], Phenotype: this is so much fun\n",
      "Generation 380: Best fitness: 19, Genotype: ['t', 'h', 'i', 's', ' ', 'i', 's', ' ', 's', 'o', ' ', 'm', 'u', 'c', 'h', ' ', 'f', 'u', 'n'], Phenotype: this is so much fun\n",
      "Generation 390: Best fitness: 19, Genotype: ['t', 'h', 'i', 's', ' ', 'i', 's', ' ', 's', 'o', ' ', 'm', 'u', 'c', 'h', ' ', 'f', 'u', 'n'], Phenotype: this is so much fun\n",
      "Generation 400: Best fitness: 19, Genotype: ['t', 'h', 'i', 's', ' ', 'i', 's', ' ', 's', 'o', ' ', 'm', 'u', 'c', 'h', ' ', 'f', 'u', 'n'], Phenotype: this is so much fun\n",
      "Generation 410: Best fitness: 19, Genotype: ['s', 'h', 'i', 's', ' ', 'i', 's', ' ', 's', 'o', ' ', 'm', 'u', 'c', 'h', ' ', 'f', 'u', 'n'], Phenotype: shis is so much fun\n",
      "Generation 420: Best fitness: 19, Genotype: ['t', 'h', 'i', 's', ' ', 'i', 's', ' ', 's', 'o', ' ', 'j', 'u', 'c', 'h', ' ', 'f', 'u', 'n'], Phenotype: this is so juch fun\n",
      "Generation 430: Best fitness: 19, Genotype: ['t', 'h', 'i', 's', ' ', 'i', 's', ' ', 's', 'o', ' ', 'm', 'u', 'c', 'h', ' ', 'f', 'u', 'n'], Phenotype: this is so much fun\n",
      "Generation 440: Best fitness: 19, Genotype: ['t', 'h', 'i', 's', ' ', 'i', 's', ' ', 's', 'o', ' ', 'm', 'u', 'c', 'h', ' ', 'f', 'u', 'n'], Phenotype: this is so much fun\n",
      "Generation 450: Best fitness: 19, Genotype: ['t', 'h', 'i', 's', ' ', 'i', 's', ' ', 's', 'o', ' ', 'm', 'u', 'c', 'h', ' ', 'f', 'u', 'n'], Phenotype: this is so much fun\n",
      "Generation 460: Best fitness: 19, Genotype: ['t', 'b', 'i', 's', ' ', 'i', 's', ' ', 's', 'o', ' ', 'm', 'u', 'c', 'h', ' ', 'f', 'u', 'n'], Phenotype: tbis is so much fun\n",
      "Generation 470: Best fitness: 19, Genotype: ['t', 'h', 'i', 's', ' ', 'i', 's', ' ', 's', 'o', ' ', 'm', 'u', 'c', 'h', ' ', 'f', 'u', 'n'], Phenotype: this is so much fun\n",
      "Generation 480: Best fitness: 19, Genotype: ['t', 'h', 'i', 's', ' ', 'i', 's', ' ', 's', 'o', ' ', 'm', 'u', 'c', 'h', ' ', 'f', 'u', 'n'], Phenotype: this is so much fun\n",
      "Generation 490: Best fitness: 19, Genotype: ['t', 'h', 'i', 's', ' ', 'i', 's', ' ', 's', 'o', ' ', 'm', 'u', 'c', 'h', ' ', 'f', 'u', 'n'], Phenotype: this is so much fun\n",
      "Generation 500: Best fitness: 19, Genotype: ['t', 'h', 'i', 's', ' ', 'i', 's', ' ', 's', 'o', ' ', 'm', 'u', 'c', 'h', ' ', 'f', 'u', 'n'], Phenotype: this is so much fun\n"
     ]
    }
   ],
   "source": [
    "result1 = genetic_algorithm(config) # do what you need to do for your implementation but don't change the lines above or below."
   ]
  },
  {
   "cell_type": "code",
   "execution_count": 24,
   "metadata": {},
   "outputs": [
    {
     "name": "stdout",
     "output_type": "stream",
     "text": [
      "['t', 'h', 'i', 's', ' ', 'i', 's', ' ', 's', 'o', ' ', 'm', 'u', 'c', 'h', ' ',\n",
      " 'f', 'u', 'n']\n"
     ]
    }
   ],
   "source": [
    "pprint(result1, compact=True)"
   ]
  },
  {
   "cell_type": "markdown",
   "metadata": {},
   "source": [
    "### calculate_similarity_reverse\n",
    "* Calculates the number of positions where the candidate string matches the target string in reverse order.\n",
    "* Args:\n",
    "    * **candidate** (list): The candidate string to compare.\n",
    "    * **target** (str): The target string whose reverse will be compared against the candidate.\n",
    "    * **genomes** (any, optional): Additional data; not used in this function. Defaults to `None`.\n",
    "* Returns:\n",
    "    * **fitness** (int): The count of matching characters between the candidate and the reversed inspected target string.\n"
   ]
  },
  {
   "cell_type": "code",
   "execution_count": 25,
   "metadata": {},
   "outputs": [],
   "source": [
    "def calculate_similarity_reverse(candidate, target,genomes=None):\n",
    "\n",
    "    fitness = 0\n",
    "    target_length = len(target)\n",
    "    \n",
    "    for i in range(target_length):\n",
    "        if candidate[i] == target[target_length - 1 - i]:\n",
    "            fitness += 1\n",
    "\n",
    "    return fitness"
   ]
  },
  {
   "cell_type": "code",
   "execution_count": 26,
   "metadata": {},
   "outputs": [],
   "source": [
    "candidate = \"abcde\"\n",
    "target = \"edcba\"\n",
    "fitness = calculate_similarity_reverse(candidate, target)\n",
    "assert isinstance(fitness, int)\n",
    "assert fitness == 5\n",
    "\n",
    "candidate = \"abcde\"\n",
    "target = \"vwxyz\"\n",
    "fitness = calculate_similarity_reverse(candidate, target)\n",
    "assert fitness == 0\n"
   ]
  },
  {
   "cell_type": "code",
   "execution_count": 27,
   "metadata": {},
   "outputs": [],
   "source": [
    "target2 = \"nuf hcum os si siht\""
   ]
  },
  {
   "cell_type": "code",
   "execution_count": 28,
   "metadata": {},
   "outputs": [],
   "source": [
    "# set up if you need it.\n",
    "# set up if you need it.\n",
    "config2 = {\n",
    "    'target': target2,\n",
    "    'genomes': ALPHABET,\n",
    "    'population_size': 100,\n",
    "    'num_generations': 500,\n",
    "    'crossover_probability': 0.6,\n",
    "    'mutation_probability': 0.02,\n",
    "    'tournament_size': 5,\n",
    "    'fitness_function': calculate_similarity_reverse,\n",
    "    'decode_function':None\n",
    "}"
   ]
  },
  {
   "cell_type": "code",
   "execution_count": 29,
   "metadata": {},
   "outputs": [
    {
     "name": "stdout",
     "output_type": "stream",
     "text": [
      "Generation 10: Best fitness: 9, Genotype: ['q', 's', 'i', 's', 'n', 'i', 'z', ' ', 's', 'o', 'r', 'b', 'a', 'z', 'h', 'v', 'r', 'w', 'n'], Phenotype: qsisniz sorbazhvrwn\n",
      "Generation 20: Best fitness: 13, Genotype: ['b', 'h', 'i', 's', 'w', 'i', 'j', ' ', 's', 'u', ' ', 'm', 'u', 'n', 'g', ' ', 'f', 'n', 'n'], Phenotype: bhiswij su mung fnn\n",
      "Generation 30: Best fitness: 16, Genotype: ['q', 'h', 'i', 's', ' ', 'i', 'z', ' ', 's', 'o', ' ', 'm', 'u', 'n', 'h', ' ', 'f', 'u', 'n'], Phenotype: qhis iz so munh fun\n",
      "Generation 40: Best fitness: 18, Genotype: ['t', 'h', 'i', 's', ' ', 'i', 's', ' ', 's', 'o', ' ', 'm', 'u', 'n', 'h', ' ', 's', 'u', 'n'], Phenotype: this is so munh sun\n",
      "Generation 50: Best fitness: 19, Genotype: ['t', 'h', 'i', 's', ' ', 'i', 's', ' ', 's', 'o', ' ', 'm', 'u', 'c', 'h', ' ', 'f', 'u', 'n'], Phenotype: this is so much fun\n",
      "Generation 60: Best fitness: 19, Genotype: ['t', 'h', 'i', 's', ' ', 'i', 's', ' ', 's', 'o', ' ', 'm', 'u', 'c', 'h', ' ', 'f', 'u', 'n'], Phenotype: this is so much fun\n",
      "Generation 70: Best fitness: 19, Genotype: ['t', 'h', 'i', 's', ' ', 'i', 's', ' ', 's', 'o', ' ', 'm', 'u', 'c', 'h', ' ', 'f', 'u', 'b'], Phenotype: this is so much fub\n",
      "Generation 80: Best fitness: 19, Genotype: ['t', 'h', 'i', 's', ' ', 'i', 's', ' ', 's', 'o', ' ', 'm', 'u', 'c', 'h', ' ', 'f', 'u', 'n'], Phenotype: this is so much fun\n",
      "Generation 90: Best fitness: 19, Genotype: ['t', 'h', 'i', 's', ' ', 'i', 'r', ' ', 's', 'o', ' ', 'm', 'u', 'c', 'h', ' ', 'f', 'u', 'n'], Phenotype: this ir so much fun\n",
      "Generation 100: Best fitness: 19, Genotype: ['t', 'h', 'i', 's', ' ', 'i', 's', ' ', 's', 'o', ' ', 'm', 'u', 'c', 'f', ' ', 'f', 'u', 'n'], Phenotype: this is so mucf fun\n",
      "Generation 110: Best fitness: 19, Genotype: ['t', 'h', 'i', 's', ' ', 'i', 's', ' ', 's', 'o', ' ', 'm', 'u', 'c', 'h', ' ', 'f', 'v', 'n'], Phenotype: this is so much fvn\n",
      "Generation 120: Best fitness: 19, Genotype: ['t', 'h', 'i', 's', ' ', 'i', 's', ' ', 's', 'o', ' ', 'm', 'u', 'c', 'h', ' ', 'f', 'u', 'n'], Phenotype: this is so much fun\n",
      "Generation 130: Best fitness: 19, Genotype: ['t', 'h', 'i', 's', ' ', 'i', 's', ' ', 's', 'o', ' ', 'm', 'u', 'c', 'h', ' ', 'f', 'u', 'n'], Phenotype: this is so much fun\n",
      "Generation 140: Best fitness: 19, Genotype: ['t', 'h', 'i', 's', ' ', 'i', 's', ' ', 's', 'o', ' ', 'm', 'u', 'c', 'h', ' ', 'f', 'u', 'n'], Phenotype: this is so much fun\n",
      "Generation 150: Best fitness: 19, Genotype: ['t', 'h', 'i', 's', ' ', 'i', 's', ' ', 's', 'o', ' ', 'm', 'j', 'c', 'h', ' ', 'f', 'u', 'n'], Phenotype: this is so mjch fun\n",
      "Generation 160: Best fitness: 19, Genotype: ['t', 'h', 'i', 's', ' ', 'i', 's', ' ', 's', 'o', ' ', 'm', 'u', 'c', 'h', ' ', 'f', 'u', 'n'], Phenotype: this is so much fun\n",
      "Generation 170: Best fitness: 19, Genotype: ['t', 'h', 'i', 's', ' ', 'i', 's', ' ', 's', 'o', ' ', 'm', 'u', 'c', 'h', ' ', 'f', 'u', 'n'], Phenotype: this is so much fun\n",
      "Generation 180: Best fitness: 19, Genotype: ['t', 'h', 'i', 's', ' ', 'i', 's', ' ', 's', 'o', ' ', 'm', 'u', 'c', 'h', ' ', 'f', 'u', 'n'], Phenotype: this is so much fun\n",
      "Generation 190: Best fitness: 19, Genotype: ['t', 'k', 'i', 'd', ' ', 'i', 's', ' ', 's', 'o', ' ', 'm', 'u', 'c', 'h', ' ', 'f', 'u', 'n'], Phenotype: tkid is so much fun\n",
      "Generation 200: Best fitness: 19, Genotype: ['t', 'h', 'i', 's', ' ', 'i', 's', ' ', 's', 'o', ' ', 'm', 'u', 'c', 'h', ' ', 'f', 'u', 'n'], Phenotype: this is so much fun\n",
      "Generation 210: Best fitness: 19, Genotype: ['t', 'h', 'i', 's', ' ', 'i', 's', ' ', 's', 'o', ' ', 'm', 'u', 'c', 'h', ' ', 'f', 'u', 'n'], Phenotype: this is so much fun\n",
      "Generation 220: Best fitness: 19, Genotype: ['t', 'h', 'i', 's', ' ', 'i', 'z', ' ', 's', 'o', ' ', 'm', 'u', 'c', 'h', ' ', 'f', 'u', 'n'], Phenotype: this iz so much fun\n",
      "Generation 230: Best fitness: 19, Genotype: ['t', 'g', 'i', 's', 'h', 'i', 's', ' ', 's', 'o', ' ', 'm', 'u', 'c', 'h', ' ', 'f', 'u', 'n'], Phenotype: tgishis so much fun\n",
      "Generation 240: Best fitness: 19, Genotype: ['t', 'h', 'i', 's', ' ', 'i', 's', ' ', 's', 'o', ' ', 'm', 'u', 'c', 'h', ' ', 'f', 'u', 'n'], Phenotype: this is so much fun\n",
      "Generation 250: Best fitness: 19, Genotype: ['t', 'h', 'i', 's', ' ', 'i', 's', ' ', 's', 'o', ' ', 'm', 'u', 'c', 'h', ' ', 'f', 'u', 'n'], Phenotype: this is so much fun\n",
      "Generation 260: Best fitness: 19, Genotype: ['t', 'h', 'i', 's', ' ', 'i', 's', ' ', 's', 'o', ' ', 'm', 'u', 'c', 'h', ' ', 'f', 'u', 'n'], Phenotype: this is so much fun\n",
      "Generation 270: Best fitness: 19, Genotype: ['t', 'h', 'i', 's', ' ', 'i', 's', ' ', 's', 'u', 'j', 'm', 'u', 'c', 'h', ' ', 'f', 'u', 'n'], Phenotype: this is sujmuch fun\n",
      "Generation 280: Best fitness: 19, Genotype: ['t', 'h', 'i', 'v', ' ', 'i', 's', ' ', 's', 'o', ' ', 'm', 'u', 'c', 'h', ' ', 'f', 'u', 'n'], Phenotype: thiv is so much fun\n",
      "Generation 290: Best fitness: 19, Genotype: ['t', 'h', 'i', 's', ' ', 'i', 's', ' ', 's', 'o', 'i', 'm', 'u', 'c', 'h', ' ', 'f', 'u', 'n'], Phenotype: this is soimuch fun\n",
      "Generation 300: Best fitness: 19, Genotype: ['t', 'h', 'i', 's', ' ', 'i', 's', ' ', 's', 'o', ' ', 'm', 'u', 'c', 'h', ' ', 'f', 'u', 'n'], Phenotype: this is so much fun\n",
      "Generation 310: Best fitness: 19, Genotype: ['t', 'h', 'i', 's', ' ', 'i', 's', ' ', 's', 'o', ' ', 'm', 'u', 'c', 'h', ' ', 'f', 'u', 'n'], Phenotype: this is so much fun\n",
      "Generation 320: Best fitness: 19, Genotype: ['t', 'h', 'i', 's', ' ', 'i', 's', 'r', 's', 'o', ' ', 'm', 'u', 'c', 'h', ' ', 'f', 'u', 'n'], Phenotype: this isrso much fun\n",
      "Generation 330: Best fitness: 19, Genotype: ['t', 'h', 'i', 's', ' ', 'i', 's', ' ', 's', 'o', ' ', 'm', 'u', 'c', 'h', ' ', 'f', 'u', 'n'], Phenotype: this is so much fun\n",
      "Generation 340: Best fitness: 19, Genotype: ['t', 'h', 'i', 's', ' ', 'i', 's', ' ', 's', 'o', ' ', 'm', 'u', 'c', 'h', ' ', 'f', 'u', 'n'], Phenotype: this is so much fun\n",
      "Generation 350: Best fitness: 19, Genotype: ['t', 'h', 'i', 's', ' ', 'i', 's', ' ', 's', 'o', ' ', 'm', 'u', 'c', 'h', ' ', 'f', 'u', 'n'], Phenotype: this is so much fun\n",
      "Generation 360: Best fitness: 19, Genotype: ['t', 'h', 'i', 's', ' ', 'i', 's', ' ', 's', 'o', ' ', 'm', 'u', 'c', 'h', ' ', 'f', 'u', 'n'], Phenotype: this is so much fun\n",
      "Generation 370: Best fitness: 19, Genotype: ['t', 'h', 'i', 's', ' ', 'i', 's', ' ', 's', 'o', ' ', 'm', 'u', 'c', 'h', ' ', 'f', 'u', 'n'], Phenotype: this is so much fun\n",
      "Generation 380: Best fitness: 19, Genotype: ['t', 'h', 'i', 's', ' ', 'i', 's', ' ', 's', 'o', ' ', 'm', 'u', 'c', 'h', ' ', 'f', 'u', 'n'], Phenotype: this is so much fun\n",
      "Generation 390: Best fitness: 19, Genotype: ['t', 'h', 'i', 's', ' ', 'i', 's', ' ', 's', 'o', ' ', 'm', 'u', 'c', 'h', ' ', 'f', 'u', 'n'], Phenotype: this is so much fun\n",
      "Generation 400: Best fitness: 19, Genotype: ['t', 'h', 'i', 's', ' ', 'i', 's', ' ', 's', 'o', ' ', 'm', 'u', 'c', 'h', ' ', 'f', 'u', 'n'], Phenotype: this is so much fun\n",
      "Generation 410: Best fitness: 19, Genotype: ['t', 'h', 'i', 's', ' ', 'i', 's', ' ', 's', 'o', ' ', 'm', 'u', 'c', 'h', 'f', 'f', 'u', 'n'], Phenotype: this is so muchffun\n",
      "Generation 420: Best fitness: 19, Genotype: ['t', 'h', 'i', 's', ' ', 'i', 's', ' ', 's', 'o', ' ', 'm', 'u', 'c', 'o', ' ', 'f', 'u', 'n'], Phenotype: this is so muco fun\n",
      "Generation 430: Best fitness: 19, Genotype: ['t', 'h', 'i', 's', ' ', 'i', 's', ' ', 's', 'o', ' ', 'm', 'u', 'c', 'h', ' ', 'f', 'u', 'n'], Phenotype: this is so much fun\n",
      "Generation 440: Best fitness: 19, Genotype: ['t', 'h', 'i', 's', ' ', 'i', 's', ' ', 's', 'o', ' ', 'm', 'u', 'c', 'h', ' ', 'f', 'u', 'n'], Phenotype: this is so much fun\n",
      "Generation 450: Best fitness: 19, Genotype: ['t', 'h', 'i', 's', ' ', 'i', 's', ' ', 's', 'o', ' ', 'm', 'u', 'c', 'h', ' ', 'f', 'u', 'n'], Phenotype: this is so much fun\n",
      "Generation 460: Best fitness: 19, Genotype: ['t', 'h', 'i', 's', ' ', 'i', 's', ' ', 's', 'o', ' ', 'm', 'u', 'c', 'h', ' ', 'f', 'u', 'n'], Phenotype: this is so much fun\n",
      "Generation 470: Best fitness: 19, Genotype: ['t', 'h', 'i', 's', ' ', 'i', 's', ' ', 's', 'o', ' ', 'm', 'u', 'c', 'h', ' ', 'f', 'u', 'n'], Phenotype: this is so much fun\n",
      "Generation 480: Best fitness: 19, Genotype: ['t', 'h', 'i', 's', ' ', 'i', 's', ' ', 's', 'o', ' ', 'm', 'u', 'c', 'h', ' ', 'f', 'u', 'n'], Phenotype: this is so much fun\n",
      "Generation 490: Best fitness: 19, Genotype: ['t', 'h', 'i', 's', ' ', 'r', 's', ' ', 's', 'o', ' ', 'm', 'u', 'c', 'h', ' ', 'f', 'u', 'n'], Phenotype: this rs so much fun\n",
      "Generation 500: Best fitness: 19, Genotype: ['t', 'h', 'i', 's', ' ', 'i', 's', ' ', 's', 'o', ' ', 'm', 'u', 'c', 'h', ' ', 'f', 'u', 'n'], Phenotype: this is so much fun\n"
     ]
    }
   ],
   "source": [
    "result2 = genetic_algorithm(config2) # do what you need to do for your implementation but don't change the lines above or below."
   ]
  },
  {
   "cell_type": "code",
   "execution_count": 30,
   "metadata": {},
   "outputs": [
    {
     "name": "stdout",
     "output_type": "stream",
     "text": [
      "['t', 'h', 'i', 's', ' ', 'i', 's', ' ', 's', 'o', ' ', 'm', 'u', 'c', 'h', ' ',\n",
      " 'f', 'u', 'n']\n"
     ]
    }
   ],
   "source": [
    "pprint(result2, compact=True)"
   ]
  },
  {
   "cell_type": "code",
   "execution_count": 31,
   "metadata": {},
   "outputs": [],
   "source": [
    "ALPHABET3 = \"abcdefghijklmnopqrstuvwxyz\""
   ]
  },
  {
   "cell_type": "code",
   "execution_count": 32,
   "metadata": {},
   "outputs": [],
   "source": [
    "target3 = \"guvfvffbzhpusha\""
   ]
  },
  {
   "cell_type": "markdown",
   "metadata": {},
   "source": [
    "### calculate_caesar_cipher\n",
    "* Calculates the fitness score by comparing the candidate string to the target string encoded with a Caesar cipher shifted by 13 positions.\n",
    "* Args:\n",
    "    * **candidate** (list): The candidate string to evaluate.\n",
    "    * **target** (str): The target string to be encoded using the Caesar cipher.\n",
    "    * **genomes** (str): A string of possible genotypes (characters) used for encoding and decoding.\n",
    "* Returns:\n",
    "    * **fitness** (int): The number of positions where the candidate matches the encoded target string.\n"
   ]
  },
  {
   "cell_type": "code",
   "execution_count": 33,
   "metadata": {},
   "outputs": [],
   "source": [
    "def calculate_caesar_cipher(candidate,target,genomes):\n",
    "    fitness = 0\n",
    "    target_length = len(target)\n",
    "    genome_length = len(genomes)\n",
    "    for i in range(target_length):\n",
    "        candidate_gene = candidate[i]\n",
    "        target_gene = target[i]\n",
    "        \n",
    "        if target_gene in genomes:\n",
    "            target_index = genomes.index(target_gene)\n",
    "            decoded_index = (target_index + 13) % genome_length\n",
    "            decoded_char = genomes[decoded_index]\n",
    "        else:\n",
    "            continue\n",
    "\n",
    "        if candidate_gene == decoded_char:\n",
    "            fitness += 1\n",
    "\n",
    "    return fitness"
   ]
  },
  {
   "cell_type": "markdown",
   "metadata": {},
   "source": [
    "### decode_ceasar_cipher\n",
    "* Decodes a Ceasar cipher encoded string by shifting each character back by 13 positions in the provided genomes string.\n",
    "* Args:\n",
    "    * **candidate** (list): The encoded string to be decoded.\n",
    "    * **genomes** (str): A list of possible characters used for encoding and decoding.\n",
    "* Returns:\n",
    "    * **decoded_phenotype** (str): The decoded string after applying the reverse Caesar cipher.\n"
   ]
  },
  {
   "cell_type": "code",
   "execution_count": 34,
   "metadata": {},
   "outputs": [],
   "source": [
    "def decode_ceasar_cipher(candidate, genomes):\n",
    "    decoded_phenotype = []\n",
    "    for char in candidate:\n",
    "        true_char_index = (genomes.index(char) - 13) % len(genomes)\n",
    "        decoded_phenotype.append(genomes[true_char_index])\n",
    "    return ''.join(decoded_phenotype)\n"
   ]
  },
  {
   "cell_type": "code",
   "execution_count": 35,
   "metadata": {},
   "outputs": [],
   "source": [
    "candidate = \"uryyb\"\n",
    "genomes = \"abcdefghijklmnopqrstuvwxyz\"\n",
    "decoded_message = decode_ceasar_cipher(candidate, genomes)\n",
    "assert len(decoded_message) == 5\n",
    "assert decoded_message == \"hello\"\n",
    "candidate = \"abcdefghijklmnopqrstuvwxyz\"\n",
    "genomes = \"abcdefghijklmnopqrstuvwxyz\"\n",
    "decoded_message = decode_ceasar_cipher(candidate, genomes)\n",
    "assert decoded_message == \"nopqrstuvwxyzabcdefghijklm\"\n"
   ]
  },
  {
   "cell_type": "code",
   "execution_count": 36,
   "metadata": {},
   "outputs": [],
   "source": [
    "# set up if you need it\n",
    "config3 = {\n",
    "    'target': target3,\n",
    "    'genomes': ALPHABET3,\n",
    "    'population_size': 100,\n",
    "    'num_generations': 500,\n",
    "    'crossover_probability': 0.6,\n",
    "    'mutation_probability': 0.02,\n",
    "    'tournament_size': 5,\n",
    "    'fitness_function': calculate_caesar_cipher,\n",
    "    'decode_function':decode_ceasar_cipher\n",
    "}"
   ]
  },
  {
   "cell_type": "code",
   "execution_count": 37,
   "metadata": {},
   "outputs": [
    {
     "name": "stdout",
     "output_type": "stream",
     "text": [
      "Generation 10: Best fitness: 9, Genotype: ['f', 'h', 'l', 's', 'z', 'd', 'p', 'o', 'm', 'u', 'c', 'q', 'b', 'u', 'n'], Phenotype: suyfmqcbzhpdoha\n",
      "Generation 20: Best fitness: 11, Genotype: ['t', 'h', 'l', 's', 'r', 's', 's', 'o', 'm', 'u', 'c', 'q', 'b', 'u', 'n'], Phenotype: guyfeffbzhpdoha\n",
      "Generation 30: Best fitness: 13, Genotype: ['t', 'h', 'i', 's', 'r', 's', 's', 'o', 'm', 'u', 'c', 'h', 'b', 'u', 'n'], Phenotype: guvfeffbzhpuoha\n",
      "Generation 40: Best fitness: 14, Genotype: ['t', 'g', 'i', 's', 'r', 's', 's', 'o', 'm', 'u', 'c', 'h', 'b', 'u', 'n'], Phenotype: gtvfeffbzhpuoha\n",
      "Generation 50: Best fitness: 14, Genotype: ['t', 'h', 'i', 's', 'i', 's', 's', 'o', 'm', 'u', 'c', 'h', 'b', 'u', 'n'], Phenotype: guvfvffbzhpuoha\n",
      "Generation 60: Best fitness: 14, Genotype: ['t', 'h', 'i', 's', 'i', 's', 's', 'o', 'm', 'u', 'c', 'h', 'w', 'u', 'n'], Phenotype: guvfvffbzhpujha\n",
      "Generation 70: Best fitness: 15, Genotype: ['t', 'h', 'i', 's', 'i', 's', 's', 'o', 'm', 'u', 'c', 'h', 'f', 'u', 'n'], Phenotype: guvfvffbzhpusha\n",
      "Generation 80: Best fitness: 15, Genotype: ['t', 'h', 'i', 's', 'i', 's', 's', 'o', 'm', 'u', 'c', 'h', 'f', 'u', 'n'], Phenotype: guvfvffbzhpusha\n",
      "Generation 90: Best fitness: 15, Genotype: ['t', 'h', 'i', 's', 'i', 's', 's', 'o', 'm', 'u', 'c', 'h', 'f', 'u', 'n'], Phenotype: guvfvffbzhpusha\n",
      "Generation 100: Best fitness: 15, Genotype: ['t', 'h', 'i', 's', 'i', 's', 's', 'o', 'm', 'u', 'c', 'h', 'f', 'u', 'n'], Phenotype: guvfvffbzhpusha\n",
      "Generation 110: Best fitness: 15, Genotype: ['t', 'h', 'i', 's', 'i', 's', 's', 'o', 'm', 'u', 'c', 'h', 'f', 'u', 'n'], Phenotype: guvfvffbzhpusha\n",
      "Generation 120: Best fitness: 15, Genotype: ['t', 'h', 'i', 's', 'i', 's', 's', 'o', 'm', 'u', 'c', 'i', 'f', 'u', 'n'], Phenotype: guvfvffbzhpvsha\n",
      "Generation 130: Best fitness: 15, Genotype: ['t', 'h', 'i', 's', 'i', 's', 's', 'o', 'f', 'u', 'c', 'h', 'f', 'u', 'n'], Phenotype: guvfvffbshpusha\n",
      "Generation 140: Best fitness: 15, Genotype: ['t', 'h', 'i', 's', 'i', 's', 's', 'o', 'm', 'u', 'c', 'h', 'f', 'u', 'n'], Phenotype: guvfvffbzhpusha\n",
      "Generation 150: Best fitness: 15, Genotype: ['t', 'h', 'i', 's', 'i', 's', 's', 'o', 'm', 'u', 'c', 'h', 'f', 'u', 'n'], Phenotype: guvfvffbzhpusha\n",
      "Generation 160: Best fitness: 15, Genotype: ['t', 'h', 'i', 's', 'i', 's', 's', 'o', 'm', 'u', 'c', 'h', 'f', 'u', 'n'], Phenotype: guvfvffbzhpusha\n",
      "Generation 170: Best fitness: 15, Genotype: ['t', 'h', 'i', 's', 'i', 's', 's', 'o', 'm', 'u', 'c', 'h', 'f', 'u', 'n'], Phenotype: guvfvffbzhpusha\n",
      "Generation 180: Best fitness: 15, Genotype: ['t', 'h', 'i', 's', 'i', 's', 's', 'o', 'm', 'u', 'c', 'h', 'f', 'u', 'n'], Phenotype: guvfvffbzhpusha\n",
      "Generation 190: Best fitness: 15, Genotype: ['n', 'h', 'i', 's', 'i', 's', 's', 'o', 'a', 'u', 'c', 'h', 'f', 'u', 'n'], Phenotype: auvfvffbnhpusha\n",
      "Generation 200: Best fitness: 15, Genotype: ['t', 'h', 'i', 's', 'i', 's', 's', 'o', 'm', 'u', 'c', 'h', 'f', 'u', 'n'], Phenotype: guvfvffbzhpusha\n",
      "Generation 210: Best fitness: 15, Genotype: ['t', 'h', 'i', 's', 'i', 's', 's', 'o', 'm', 'u', 'c', 'h', 'f', 'u', 'n'], Phenotype: guvfvffbzhpusha\n",
      "Generation 220: Best fitness: 15, Genotype: ['t', 'h', 'i', 's', 'i', 's', 's', 'o', 'm', 'u', 'c', 'h', 'f', 'u', 'n'], Phenotype: guvfvffbzhpusha\n",
      "Generation 230: Best fitness: 15, Genotype: ['t', 'h', 'i', 's', 'i', 's', 's', 'o', 'm', 'u', 'c', 'h', 'f', 'u', 'n'], Phenotype: guvfvffbzhpusha\n",
      "Generation 240: Best fitness: 15, Genotype: ['t', 'h', 'i', 's', 'i', 's', 's', 'o', 'm', 'u', 'c', 'h', 'f', 'u', 'n'], Phenotype: guvfvffbzhpusha\n",
      "Generation 250: Best fitness: 15, Genotype: ['t', 'h', 'i', 's', 'i', 's', 's', 'o', 'm', 'u', 'c', 'h', 'f', 'u', 'n'], Phenotype: guvfvffbzhpusha\n",
      "Generation 260: Best fitness: 15, Genotype: ['t', 'h', 'i', 's', 'i', 's', 's', 'o', 'm', 'u', 'c', 'h', 'f', 'u', 'n'], Phenotype: guvfvffbzhpusha\n",
      "Generation 270: Best fitness: 15, Genotype: ['t', 'h', 'i', 's', 'i', 's', 's', 'o', 'm', 'u', 'c', 'h', 'f', 'u', 'n'], Phenotype: guvfvffbzhpusha\n",
      "Generation 280: Best fitness: 15, Genotype: ['t', 'h', 'i', 's', 'i', 's', 's', 'o', 'm', 'u', 'c', 'h', 'f', 'u', 'n'], Phenotype: guvfvffbzhpusha\n",
      "Generation 290: Best fitness: 15, Genotype: ['t', 'h', 'i', 's', 'i', 's', 's', 'o', 'm', 'u', 'c', 'h', 'f', 'u', 'n'], Phenotype: guvfvffbzhpusha\n",
      "Generation 300: Best fitness: 15, Genotype: ['t', 'h', 'i', 's', 'i', 's', 's', 'o', 'm', 'u', 'c', 'h', 'f', 'u', 'n'], Phenotype: guvfvffbzhpusha\n",
      "Generation 310: Best fitness: 15, Genotype: ['t', 'h', 'i', 's', 'i', 's', 's', 'o', 'm', 'u', 'c', 'h', 'f', 'u', 'n'], Phenotype: guvfvffbzhpusha\n",
      "Generation 320: Best fitness: 15, Genotype: ['t', 'h', 'i', 's', 'i', 's', 's', 'o', 'm', 'u', 'c', 'h', 'f', 'u', 'n'], Phenotype: guvfvffbzhpusha\n",
      "Generation 330: Best fitness: 15, Genotype: ['t', 'h', 'i', 's', 'i', 's', 's', 'o', 'm', 'u', 'c', 'h', 'f', 'u', 'n'], Phenotype: guvfvffbzhpusha\n",
      "Generation 340: Best fitness: 15, Genotype: ['l', 'h', 'i', 's', 'i', 's', 's', 'o', 'm', 'u', 'c', 'h', 'f', 'u', 'n'], Phenotype: yuvfvffbzhpusha\n",
      "Generation 350: Best fitness: 15, Genotype: ['t', 'h', 'i', 's', 'i', 's', 's', 'o', 'm', 'u', 'c', 'h', 'f', 'u', 'n'], Phenotype: guvfvffbzhpusha\n",
      "Generation 360: Best fitness: 15, Genotype: ['t', 'h', 'i', 's', 'i', 's', 's', 'o', 'm', 'u', 'c', 'h', 'f', 'u', 'n'], Phenotype: guvfvffbzhpusha\n",
      "Generation 370: Best fitness: 15, Genotype: ['t', 'h', 'i', 's', 'i', 's', 's', 'o', 'm', 'u', 'c', 'h', 'f', 'u', 'n'], Phenotype: guvfvffbzhpusha\n",
      "Generation 380: Best fitness: 15, Genotype: ['t', 'h', 'i', 's', 'i', 's', 's', 'o', 'm', 'u', 'c', 'h', 'f', 'u', 'r'], Phenotype: guvfvffbzhpushe\n",
      "Generation 390: Best fitness: 15, Genotype: ['t', 'h', 'i', 's', 'i', 's', 's', 'o', 'm', 'u', 'c', 'h', 'f', 'u', 'n'], Phenotype: guvfvffbzhpusha\n",
      "Generation 400: Best fitness: 15, Genotype: ['t', 'h', 'i', 's', 'i', 's', 's', 'o', 'm', 'u', 'c', 'h', 'f', 'u', 'n'], Phenotype: guvfvffbzhpusha\n",
      "Generation 410: Best fitness: 15, Genotype: ['t', 'h', 'i', 's', 'i', 's', 's', 'o', 'm', 'u', 'c', 'h', 'f', 'u', 'n'], Phenotype: guvfvffbzhpusha\n",
      "Generation 420: Best fitness: 15, Genotype: ['t', 'h', 'i', 's', 'i', 's', 's', 'o', 'm', 'u', 'c', 'h', 'f', 'u', 'n'], Phenotype: guvfvffbzhpusha\n",
      "Generation 430: Best fitness: 15, Genotype: ['t', 'h', 'i', 's', 'i', 's', 's', 'o', 'm', 'u', 'c', 'h', 'f', 'u', 'n'], Phenotype: guvfvffbzhpusha\n",
      "Generation 440: Best fitness: 15, Genotype: ['t', 'h', 'i', 's', 'i', 's', 's', 'o', 'e', 'u', 'c', 'h', 'f', 'u', 'n'], Phenotype: guvfvffbrhpusha\n",
      "Generation 450: Best fitness: 15, Genotype: ['t', 'h', 'i', 's', 'i', 's', 's', 'o', 'm', 'u', 'c', 'h', 'f', 'u', 'n'], Phenotype: guvfvffbzhpusha\n",
      "Generation 460: Best fitness: 15, Genotype: ['t', 'h', 'i', 's', 'i', 's', 's', 'o', 'm', 'u', 'c', 'h', 'f', 'u', 'n'], Phenotype: guvfvffbzhpusha\n",
      "Generation 470: Best fitness: 15, Genotype: ['t', 'h', 'i', 's', 'i', 's', 's', 'o', 'm', 'u', 'c', 'h', 'f', 'u', 'n'], Phenotype: guvfvffbzhpusha\n",
      "Generation 480: Best fitness: 15, Genotype: ['t', 'h', 'i', 's', 'i', 's', 's', 'o', 'm', 'u', 'c', 'h', 'f', 'u', 'n'], Phenotype: guvfvffbzhpusha\n",
      "Generation 490: Best fitness: 15, Genotype: ['t', 'h', 'i', 's', 'i', 's', 's', 'o', 'a', 'u', 'c', 'h', 'f', 'u', 'n'], Phenotype: guvfvffbnhpusha\n",
      "Generation 500: Best fitness: 15, Genotype: ['t', 'h', 'i', 's', 'i', 's', 's', 'o', 'm', 'u', 'c', 'h', 'f', 'u', 'n'], Phenotype: guvfvffbzhpusha\n"
     ]
    }
   ],
   "source": [
    "result3 = genetic_algorithm(config3) # do what you need to do for your implementation but don't change the lines above or below."
   ]
  },
  {
   "cell_type": "code",
   "execution_count": 38,
   "metadata": {},
   "outputs": [
    {
     "name": "stdout",
     "output_type": "stream",
     "text": [
      "['t', 'h', 'i', 's', 'i', 's', 's', 'o', 'm', 'u', 'c', 'h', 'f', 'u', 'n']\n"
     ]
    }
   ],
   "source": [
    "pprint(result3, compact=True)"
   ]
  },
  {
   "cell_type": "markdown",
   "metadata": {},
   "source": [
    "#### I would tackle this in a combination of small steps.\n",
    "1. Assuming that the spaces in the message are not meant to be decipher, meaning it is just separating the actual strings, I would use them to create a list of list where we can actually evaluate each string individually but the candidate is still the full sentence.\n",
    "2. One part of the main problem for this is finding the actual shift that is encoding the strings, so this means that we are kind of trying to find the correct translation for the chromosomes, in this case it can be any integer from 0 to 25. \n",
    "3. The second part the main problem is to actually be able to define a fitness function that makes sense. The one that comes to my mind is to have a large dictionary with actual english words in it(or whatever languate you are trying to use, this might work with anything in reality). This way we can compare if the decoded word is in this dictionary, and if it is, it will add to the fitness of the candidate.\n",
    "4. Even if this would help find the actual shifting that is needed, it does not neccesarily mean that the sentence would make sense, just that we are getting actual english words.  "
   ]
  }
 ],
 "metadata": {
  "kernelspec": {
   "display_name": "Python 3 (ipykernel)",
   "language": "python",
   "name": "python3"
  },
  "language_info": {
   "codemirror_mode": {
    "name": "ipython",
    "version": 3
   },
   "file_extension": ".py",
   "mimetype": "text/x-python",
   "name": "python",
   "nbconvert_exporter": "python",
   "pygments_lexer": "ipython3",
   "version": "3.11.9"
  },
  "toc": {
   "colors": {
    "hover_highlight": "#DAA520",
    "navigate_num": "#000000",
    "navigate_text": "#333333",
    "running_highlight": "#FF0000",
    "selected_highlight": "#FFD700",
    "sidebar_border": "#EEEEEE",
    "wrapper_background": "#FFFFFF"
   },
   "moveMenuLeft": true,
   "nav_menu": {
    "height": "120px",
    "width": "252px"
   },
   "navigate_menu": true,
   "number_sections": true,
   "sideBar": true,
   "threshold": 4,
   "toc_cell": false,
   "toc_section_display": "block",
   "toc_window_display": false,
   "widenNotebook": false
  }
 },
 "nbformat": 4,
 "nbformat_minor": 4
}
