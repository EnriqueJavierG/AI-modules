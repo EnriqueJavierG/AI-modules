{
 "cells": [
  {
   "cell_type": "markdown",
   "metadata": {},
   "source": [
    "## Solving Normal Form Games"
   ]
  },
  {
   "cell_type": "code",
   "execution_count": 1,
   "metadata": {},
   "outputs": [],
   "source": [
    "from typing import List, Tuple, Dict, Callable"
   ]
  },
  {
   "cell_type": "code",
   "execution_count": 2,
   "metadata": {},
   "outputs": [
    {
     "data": {
      "text/plain": [
       "[[(-5, -5), (-1, -10)], [(-10, -1), (-2, -2)]]"
      ]
     },
     "execution_count": 2,
     "metadata": {},
     "output_type": "execute_result"
    }
   ],
   "source": [
    "prisoners_dilemma = [\n",
    " [( -5, -5), (-1,-10)],\n",
    " [(-10, -1), (-2, -2)]]\n",
    "\n",
    "prisoners_dilemma"
   ]
  },
  {
   "cell_type": "markdown",
   "metadata": {},
   "source": [
    "### is_row_dominated\n",
    "* Function to verify if a row2 strategy is dominated by row1 strategy \n",
    "* Args:\n",
    "    * **game** (list): The normal-form game matrix where each element is a tuple of Player 1's and Player 2's payoffs.\n",
    "    * **row1** (int): Integer representing the row we are evaluating for dominating.\n",
    "    * **row2** (int): Integer representing the row we are evaluating for being dominated.\n",
    "    * **columns** (set): Set of available columns\n",
    "    * **weak** (bool): Boolean variable to decide if weak dominated strategy is enabled\n",
    "* Returns:\n",
    "    * (bool): True if row1 dominates row2, return False if row1 does not dominate row2"
   ]
  },
  {
   "cell_type": "code",
   "execution_count": 3,
   "metadata": {},
   "outputs": [],
   "source": [
    "def is_row_dominated(game: List[List[Tuple]], row1: int, row2: int, columns: set, weak: bool) -> bool:\n",
    "    for col in columns:\n",
    "        payoff_row1 = game[row1][col][0]\n",
    "        payoff_row2 = game[row2][col][0]\n",
    "        if weak:\n",
    "            if payoff_row1 < payoff_row2:\n",
    "                return False\n",
    "        else:\n",
    "            if payoff_row1 <= payoff_row2:\n",
    "                return False\n",
    "    return True"
   ]
  },
  {
   "cell_type": "code",
   "execution_count": 4,
   "metadata": {},
   "outputs": [],
   "source": [
    "game = [\n",
    "    [(3, 2), (2, 1)],\n",
    "    [(1, 2), (0, 3)]\n",
    "]\n",
    "columns = {0, 1}\n",
    "assert type(is_row_dominated(game, 0, 1, columns, weak=False)) == bool\n",
    "assert is_row_dominated(game, 0, 1, columns, weak=False) == True\n",
    "assert is_row_dominated(game, 0, 1, columns, weak=True) == True"
   ]
  },
  {
   "cell_type": "markdown",
   "metadata": {},
   "source": [
    "### is_col_dominated\n",
    "* Function to verify if a `col2` strategy is dominated by `col1` strategy for Player 2.\n",
    "* Args:\n",
    "    * **game** (list): The normal-form game matrix where each element is a tuple of Player 1's and Player 2's payoffs.\n",
    "    * **col1** (int): Integer representing the column (strategy for Player 2) we are evaluating for dominating.\n",
    "    * **col2** (int): Integer representing the column (strategy for Player 2) we are evaluating for being dominated.\n",
    "    * **rows** (set): Set of available row indices representing Player 1's strategies.\n",
    "    * **weak** (bool): Boolean variable to decide if weakly dominated strategies are enabled.\n",
    "* Returns:\n",
    "    * (bool): True if `col1` dominates `col2`; False if `col1` does not dominate `col2`.\n"
   ]
  },
  {
   "cell_type": "code",
   "execution_count": 5,
   "metadata": {},
   "outputs": [],
   "source": [
    "def is_col_dominated(game: List[List[Tuple]], col1: int, col2: int, rows: set, weak: bool) -> bool:\n",
    "    for row in rows:\n",
    "        payoff_col1 = game[row][col1][1]\n",
    "        payoff_col2 = game[row][col2][1]\n",
    "        if weak:\n",
    "            if payoff_col1 < payoff_col2:\n",
    "                return False\n",
    "        else:\n",
    "            if payoff_col1 <= payoff_col2:\n",
    "                return False\n",
    "    return True"
   ]
  },
  {
   "cell_type": "code",
   "execution_count": 6,
   "metadata": {},
   "outputs": [],
   "source": [
    "game = [\n",
    "    [(3, 2), (1, 3)], \n",
    "    [(2, 4), (0, 5)]\n",
    "]\n",
    "rows = {0, 1}\n",
    "assert type(is_col_dominated(game, 1, 0, rows, weak=False)) == bool \n",
    "assert is_col_dominated(game, 0, 1, rows, weak=False) == False\n",
    "assert is_col_dominated(game, 0, 1, rows, weak=True) == False\n"
   ]
  },
  {
   "cell_type": "markdown",
   "metadata": {},
   "source": [
    "### find_dominated_row\n",
    "* Function to find a row (strategy for Player 1) that is dominated by another row.\n",
    "* Args:\n",
    "    * **game** (list): The normal-form game matrix where each element is a tuple of Player 1's and Player 2's payoffs.\n",
    "    * **rows** (set): Set of available row indices representing Player 1's strategies.\n",
    "    * **columns** (set): Set of available column indices representing Player 2's strategies.\n",
    "    * **weak** (bool): Boolean variable to decide if weakly dominated strategies are enabled.\n",
    "* Returns:\n",
    "    * (int or None): The index of the dominated row (`row2`) if found, otherwise returns `None`.\n"
   ]
  },
  {
   "cell_type": "code",
   "execution_count": 7,
   "metadata": {},
   "outputs": [],
   "source": [
    "def find_dominated_row(game: List[List[Tuple]], rows: set, columns: set, weak: bool) -> int:\n",
    "    for row1 in rows:\n",
    "        for row2 in rows:\n",
    "            if row1 != row2 and is_row_dominated(game, row1, row2, columns, weak):\n",
    "                return row2\n",
    "    return None"
   ]
  },
  {
   "cell_type": "code",
   "execution_count": 8,
   "metadata": {},
   "outputs": [],
   "source": [
    "game = [\n",
    "    [(3, 2), (4, 1)],\n",
    "    [(1, 2), (0, 3)]\n",
    "]\n",
    "rows = {0, 1}\n",
    "columns = {0, 1}\n",
    "assert type(find_dominated_row(game, rows, columns, weak=False)) == int\n",
    "assert find_dominated_row(game, rows, columns, weak=False) == 1\n",
    "assert find_dominated_row(game, rows, columns, weak=True) == 1\n"
   ]
  },
  {
   "cell_type": "markdown",
   "metadata": {},
   "source": [
    "### find_dominated_col\n",
    "* Function to find a column (strategy for Player 2) that is dominated by another column.\n",
    "* Args:\n",
    "    * **game** (list): The normal-form game matrix where each element is a tuple of Player 1's and Player 2's payoffs.\n",
    "    * **columns** (set): Set of available column indices representing Player 2's strategies.\n",
    "    * **rows** (set): Set of available row indices representing Player 1's strategies.\n",
    "    * **weak** (bool): Boolean variable to decide if weakly dominated strategies are enabled.\n",
    "* Returns:\n",
    "    * (int or None): The index of the dominated column (`col2`) if found, otherwise returns `None`.\n"
   ]
  },
  {
   "cell_type": "code",
   "execution_count": 9,
   "metadata": {},
   "outputs": [],
   "source": [
    "def find_dominated_col(game: List[List[Tuple]], columns: set, rows: set, weak: bool) -> int:\n",
    "    for col1 in columns:\n",
    "        for col2 in columns:\n",
    "            if col1 != col2 and is_col_dominated(game, col1, col2, rows, weak):\n",
    "                return col2\n",
    "    return None"
   ]
  },
  {
   "cell_type": "code",
   "execution_count": 10,
   "metadata": {},
   "outputs": [],
   "source": [
    "game = [\n",
    "    [(2, 2), (2, 3)],\n",
    "    [(1, 3), (0, 3)]\n",
    "]\n",
    "columns = {0, 1}\n",
    "rows = {0, 1}\n",
    "assert type(find_dominated_col(game, columns, rows, weak=True)) == int\n",
    "assert find_dominated_col(game, columns, rows, weak=True) == 0\n",
    "assert find_dominated_col(game, columns, rows, weak=False) == None"
   ]
  },
  {
   "cell_type": "markdown",
   "metadata": {},
   "source": [
    "### remove_dominated_strategies\n",
    "* Function to iteratively remove dominated rows (Player 1 strategies) and columns (Player 2 strategies) from the game.\n",
    "* Args:\n",
    "    * **game** (list): The normal-form game matrix where each element is a tuple of Player 1's and Player 2's payoffs.\n",
    "    * **weak** (bool): Boolean variable to decide if weakly dominated strategies are enabled.\n",
    "* Returns:\n",
    "    * **(Tuple[set, set])**: A tuple containing two sets:\n",
    "        * **rows**: The set of remaining row indices (Player 1's non-dominated strategies).\n",
    "        * **columns**: The set of remaining column indices (Player 2's non-dominated strategies).\n"
   ]
  },
  {
   "cell_type": "code",
   "execution_count": 11,
   "metadata": {},
   "outputs": [],
   "source": [
    "def remove_dominated_strategies(game: List[List[Tuple]], weak: bool) -> Tuple[set, set]:\n",
    "    rows = set(range(len(game)))\n",
    "    columns = set(range(len(game[0])))\n",
    "    while True:\n",
    "        row_to_remove = find_dominated_row(game, rows, columns, weak)\n",
    "        if row_to_remove is not None:\n",
    "            rows.remove(row_to_remove)\n",
    "            continue\n",
    "        col_to_remove = find_dominated_col(game, columns, rows, weak)\n",
    "        if col_to_remove is not None:\n",
    "            columns.remove(col_to_remove)\n",
    "            continue\n",
    "        break\n",
    "    return rows, columns"
   ]
  },
  {
   "cell_type": "code",
   "execution_count": 12,
   "metadata": {},
   "outputs": [],
   "source": [
    "game = [\n",
    "    [(3, 2), (1, 4)],\n",
    "    [(2, 3), (0, 5)]\n",
    "]\n",
    "expected_rows = {0}\n",
    "expected_columns = {1}\n",
    "assert type(remove_dominated_strategies(game, weak=False)) == tuple\n",
    "assert len(remove_dominated_strategies(game, weak=False)) == 2\n",
    "assert remove_dominated_strategies(game, weak=False) == (expected_rows, expected_columns)\n",
    "\n"
   ]
  },
  {
   "cell_type": "markdown",
   "metadata": {},
   "source": [
    "### is_nash_equilibrium\n",
    "* Function to check if a given strategy pair `(row, col)` is a Nash equilibrium.\n",
    "* Args:\n",
    "    * **game** (list): The normal-form game matrix where each element is a tuple of Player 1's and Player 2's payoffs.\n",
    "    * **row** (int): The index of the row (Player 1's strategy) to evaluate.\n",
    "    * **col** (int): The index of the column (Player 2's strategy) to evaluate.\n",
    "    * **rows** (set): Set of available row indices (Player 1's strategies).\n",
    "    * **columns** (set): Set of available column indices (Player 2's strategies).\n",
    "* Returns:\n",
    "    * **(bool)**: True if the strategy pair `(row, col)` is a Nash equilibrium, False otherwise.\n"
   ]
  },
  {
   "cell_type": "code",
   "execution_count": 13,
   "metadata": {},
   "outputs": [],
   "source": [
    "def is_nash_equilibrium(game: List[List[Tuple]], row: int, col: int, rows: set, columns: set) -> bool:\n",
    "    for other_row in rows:\n",
    "        if game[other_row][col][0] > game[row][col][0]:\n",
    "            return False\n",
    "\n",
    "    for other_col in columns:\n",
    "        if game[row][other_col][1] > game[row][col][1]:\n",
    "            return False\n",
    "\n",
    "    return True"
   ]
  },
  {
   "cell_type": "code",
   "execution_count": 14,
   "metadata": {},
   "outputs": [],
   "source": [
    "game = [\n",
    "    [(3, 2), (1, 4)],\n",
    "    [(2, 1), (0, 5)]\n",
    "]\n",
    "rows = {0, 1}\n",
    "columns = {0, 1}\n",
    "assert type(is_nash_equilibrium(game, 0, 1, rows, columns)) == bool\n",
    "assert is_nash_equilibrium(game, 0, 1, rows, columns) == True\n",
    "assert is_nash_equilibrium(game, 1, 0, rows, columns) == False\n"
   ]
  },
  {
   "cell_type": "markdown",
   "metadata": {},
   "source": [
    "### solve_game\n",
    "* Function to solve a normal-form game by finding all Nash equilibria after removing dominated strategies.\n",
    "* Args:\n",
    "    * **game** (list): The normal-form game matrix where each element is a tuple of Player 1's and Player 2's payoffs.\n",
    "    * **weak** (bool, optional): Boolean variable to decide if weakly dominated strategies are enabled. Defaults to `False`.\n",
    "* Returns:\n",
    "    * **(List[Tuple])**: A list of tuples representing the Nash equilibria. Each tuple contains a row and column index `(row, col)` that forms a Nash equilibrium.\n"
   ]
  },
  {
   "cell_type": "code",
   "execution_count": 15,
   "metadata": {},
   "outputs": [],
   "source": [
    "def solve_game(game: List[List[Tuple]], weak=False) -> List[Tuple]:\n",
    "    remaining_rows, remaining_columns = remove_dominated_strategies(game, weak)\n",
    "    nash_equilibrium = []\n",
    "    for row in remaining_rows:\n",
    "        for col in remaining_columns:\n",
    "            if is_nash_equilibrium(game, row, col, remaining_rows, remaining_columns):\n",
    "                nash_equilibrium.append((row, col))\n",
    "    return nash_equilibrium"
   ]
  },
  {
   "cell_type": "markdown",
   "metadata": {},
   "source": [
    "\n",
    "| Player 1 / Player 2  | 0 | 1 | 2 |\n",
    "|----|----|----|----|\n",
    "|0  | 1/0 | 3/1 | 1/1 |\n",
    "|1  | 1/1 | 3/0 | 0/1 |\n",
    "|2  | 2/2 | 3/3 | 0/2 |\n",
    "\n",
    "**Solutions**: [(2,1), (0,1),(0,2)]\n",
    "\n",
    "![alt text](module5part1.png)\n",
    "![alt text](module5part2.png)\n",
    "\n",
    "![alt text](module5part3.png)"
   ]
  },
  {
   "cell_type": "markdown",
   "metadata": {},
   "source": [
    "### Test Game 1. Create a 3x3 two player game\n",
    "\n",
    "**that can only be solved using the Successive Elimintation of Strongly Dominated Strategies**\n",
    "\n",
    "| Player 1 / Player 2  | 0 | 1 | 2 |\n",
    "|----|----|----|----|\n",
    "|0  | 3/5 | 2/5 | 1/4 |\n",
    "|1  | 4/1 | 2/1 | 0/4 |\n",
    "|2  | 5/2 | 4/2 | 2/3 |\n",
    "\n",
    "**Solution:**? (strategy indices)"
   ]
  },
  {
   "cell_type": "code",
   "execution_count": 16,
   "metadata": {},
   "outputs": [
    {
     "name": "stdout",
     "output_type": "stream",
     "text": [
      "[(2, 2)]\n",
      "[(2, 2)]\n"
     ]
    }
   ],
   "source": [
    "test_game_1 = [\n",
    "    [(3, 5), (2, 5), (1, 4)],  \n",
    "    [(4, 1), (2, 1), (0, 4)],  \n",
    "    [(5, 2), (4, 2), (2, 3)]   \n",
    "]\n",
    "\n",
    "solution = solve_game(test_game_1)\n",
    "solution_weak = solve_game(test_game_1,True)\n",
    "print(solution)\n",
    "print(solution_weak)"
   ]
  },
  {
   "cell_type": "code",
   "execution_count": 17,
   "metadata": {},
   "outputs": [],
   "source": [
    "assert solution == [(2,2)] # insert your solution from above.\n",
    "assert solution_weak== [(2,2)]"
   ]
  },
  {
   "cell_type": "markdown",
   "metadata": {},
   "source": [
    "### Test Game 2. Create a 3x3 two player game\n",
    "\n",
    "**that can only be solved using the Successive Elimintation of Weakly Dominated Strategies**\n",
    "\n",
    "| Player 1 / Player 2  | 0 | 1 | 2 |\n",
    "|----|----|----|----|\n",
    "|0  | 3/3 | 5/2 | 3/2 |\n",
    "|1  | 2/5 | 4/1 | 1/3 |\n",
    "|2  | 1/2 | 0/1 | 2/1 |\n",
    "\n",
    "**Solution:**? [(0,0)]"
   ]
  },
  {
   "cell_type": "markdown",
   "metadata": {},
   "source": []
  },
  {
   "cell_type": "code",
   "execution_count": 18,
   "metadata": {},
   "outputs": [],
   "source": [
    "test_game_2 = [\n",
    "    [(3, 3), (5, 2), (3, 2)],\n",
    "    [(2, 5), (4, 1), (1, 3)],\n",
    "    [(1, 2), (0, 1), (2, 4)]\n",
    "    ]\n",
    "\n",
    "strong_solution = solve_game( test_game_2)\n",
    "weak_solution = solve_game( test_game_2, weak=True)"
   ]
  },
  {
   "cell_type": "code",
   "execution_count": 19,
   "metadata": {},
   "outputs": [
    {
     "name": "stdout",
     "output_type": "stream",
     "text": [
      "[(0, 0)]\n",
      "[(0, 0)]\n"
     ]
    }
   ],
   "source": [
    "print(strong_solution)\n",
    "print(weak_solution)"
   ]
  },
  {
   "cell_type": "code",
   "execution_count": 20,
   "metadata": {},
   "outputs": [],
   "source": [
    "assert strong_solution == [(0, 0)]\n",
    "assert weak_solution == [(0, 0)] # insert your solution from above."
   ]
  },
  {
   "cell_type": "markdown",
   "metadata": {},
   "source": [
    "### Test Game 3. Create a 3x3 two player game\n",
    "\n",
    "**that cannot be solved using the Successive Elimintation of Dominated Strategies at all**\n",
    "\n",
    "| Player 1 / Player 2  | 0 | 1 | 2 |\n",
    "|----|----|----|----|\n",
    "|0  | 2/1 | 0/4 | 1/2 |\n",
    "|1  | 3/0 | 4/1 | 2/3 |\n",
    "|2  | 1/2 | 2/3 | 3/0 |\n",
    "\n",
    "**Solution:** None"
   ]
  },
  {
   "cell_type": "code",
   "execution_count": 21,
   "metadata": {},
   "outputs": [],
   "source": [
    "test_game_3 = [\n",
    "    [(2, 1), (0, 4), (1, 2)],\n",
    "    [(3, 0), (4, 1), (2, 3)],  \n",
    "    [(1, 2), (2, 3), (3, 0)]\n",
    "]   \n",
    "\n",
    "\n",
    "strong_solution = solve_game( test_game_3)\n",
    "weak_solution = solve_game( test_game_3, weak=True)"
   ]
  },
  {
   "cell_type": "code",
   "execution_count": 22,
   "metadata": {},
   "outputs": [
    {
     "name": "stdout",
     "output_type": "stream",
     "text": [
      "[]\n",
      "[]\n"
     ]
    }
   ],
   "source": [
    "print(strong_solution)\n",
    "print(weak_solution)"
   ]
  },
  {
   "cell_type": "code",
   "execution_count": 23,
   "metadata": {},
   "outputs": [],
   "source": [
    "assert strong_solution == []\n",
    "assert weak_solution == []"
   ]
  },
  {
   "cell_type": "markdown",
   "metadata": {},
   "source": [
    "### Test Game 4. Multiple Equilibria\n",
    "\n",
    "You solve the following game by hand, above.\n",
    "Now use your code to solve it.\n",
    "\n",
    "| Player 1 / Player 2  | 0 | 1 | 2 |\n",
    "|----|----|----|----|\n",
    "|0  | 1/0 | 3/1 | 1/1 |\n",
    "|1  | 1/1 | 3/0 | 0/1 |\n",
    "|2  | 2/2 | 3/3 | 0/2 |\n",
    "\n",
    "**Solutions:** (copy from above)"
   ]
  },
  {
   "cell_type": "code",
   "execution_count": 24,
   "metadata": {},
   "outputs": [],
   "source": [
    "test_game_4 = [\n",
    "[(1, 0), (3, 1), (1, 1)],\n",
    "[(1, 1), (3, 0), (0, 3)],\n",
    "[(2, 2), (3, 3), (0, 2)]]\n",
    "\n",
    "strong_solution = solve_game( test_game_4)\n",
    "weak_solution = solve_game( test_game_4, weak=True)"
   ]
  },
  {
   "cell_type": "code",
   "execution_count": 25,
   "metadata": {},
   "outputs": [
    {
     "name": "stdout",
     "output_type": "stream",
     "text": [
      "[(0, 1), (0, 2), (2, 1)]\n",
      "[(0, 1)]\n"
     ]
    }
   ],
   "source": [
    "print(strong_solution)\n",
    "print(weak_solution)"
   ]
  },
  {
   "cell_type": "code",
   "execution_count": 26,
   "metadata": {},
   "outputs": [],
   "source": [
    "assert strong_solution == [(0, 1), (0, 2), (2, 1)]\n",
    "assert weak_solution == [(0, 1)] # put solution here"
   ]
  }
 ],
 "metadata": {
  "kernelspec": {
   "display_name": "en605645",
   "language": "python",
   "name": "python3"
  },
  "language_info": {
   "codemirror_mode": {
    "name": "ipython",
    "version": 3
   },
   "file_extension": ".py",
   "mimetype": "text/x-python",
   "name": "python",
   "nbconvert_exporter": "python",
   "pygments_lexer": "ipython3",
   "version": "3.11.9"
  },
  "toc": {
   "colors": {
    "hover_highlight": "#DAA520",
    "navigate_num": "#000000",
    "navigate_text": "#333333",
    "running_highlight": "#FF0000",
    "selected_highlight": "#FFD700",
    "sidebar_border": "#EEEEEE",
    "wrapper_background": "#FFFFFF"
   },
   "moveMenuLeft": true,
   "nav_menu": {
    "height": "135px",
    "width": "252px"
   },
   "navigate_menu": true,
   "number_sections": true,
   "sideBar": true,
   "threshold": 4,
   "toc_cell": false,
   "toc_section_display": "block",
   "toc_window_display": false,
   "widenNotebook": false
  }
 },
 "nbformat": 4,
 "nbformat_minor": 4
}
