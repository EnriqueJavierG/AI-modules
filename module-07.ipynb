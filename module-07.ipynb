{
 "cells": [
  {
   "cell_type": "code",
   "execution_count": 1,
   "metadata": {},
   "outputs": [],
   "source": [
    "import tokenize\n",
    "from io import StringIO"
   ]
  },
  {
   "cell_type": "markdown",
   "metadata": {},
   "source": [
    "This uses the above libraries to build a Lisp structure based on atoms. It is adapted from [simple iterator parser](http://effbot.org/zone/simple-iterator-parser.htm) (deadlink). The first function is the `atom` function."
   ]
  },
  {
   "cell_type": "code",
   "execution_count": 2,
   "metadata": {},
   "outputs": [],
   "source": [
    "def atom( next, token):\n",
    "    if token[ 1] == '(':\n",
    "        out = []\n",
    "        token = next()\n",
    "        while token[ 1] != ')':\n",
    "            out.append( atom( next, token))\n",
    "            token = next()\n",
    "            if token[ 1] == ' ':\n",
    "                token = next()\n",
    "        return out\n",
    "    elif token[ 1] == '?':\n",
    "        token = next()\n",
    "        return \"?\" + token[ 1]\n",
    "    else:\n",
    "        return token[ 1]"
   ]
  },
  {
   "cell_type": "markdown",
   "metadata": {},
   "source": [
    "The next function is the actual `parse` function:"
   ]
  },
  {
   "cell_type": "code",
   "execution_count": 3,
   "metadata": {},
   "outputs": [],
   "source": [
    "def parse(exp):\n",
    "    src = StringIO(exp).readline\n",
    "    tokens = tokenize.generate_tokens(src)\n",
    "    return atom(tokens.__next__, tokens.__next__())"
   ]
  },
  {
   "cell_type": "markdown",
   "metadata": {},
   "source": [
    "From a Python perspective, we want to turn something like \"(loves Fred ?x)\" to [\"loves\" \"Fred\" \"?x\"] and then work with the second representation as a list of strings. The strings then have the syntactic meaning we gave them previously."
   ]
  },
  {
   "cell_type": "code",
   "execution_count": 4,
   "metadata": {},
   "outputs": [
    {
     "data": {
      "text/plain": [
       "'Fred'"
      ]
     },
     "execution_count": 4,
     "metadata": {},
     "output_type": "execute_result"
    }
   ],
   "source": [
    "parse(\"Fred\")"
   ]
  },
  {
   "cell_type": "code",
   "execution_count": 5,
   "metadata": {},
   "outputs": [
    {
     "data": {
      "text/plain": [
       "'?x'"
      ]
     },
     "execution_count": 5,
     "metadata": {},
     "output_type": "execute_result"
    }
   ],
   "source": [
    "parse( \"?x\")"
   ]
  },
  {
   "cell_type": "code",
   "execution_count": 6,
   "metadata": {},
   "outputs": [
    {
     "data": {
      "text/plain": [
       "['loves', 'Fred', '?x']"
      ]
     },
     "execution_count": 6,
     "metadata": {},
     "output_type": "execute_result"
    }
   ],
   "source": [
    "parse( \"(loves Fred ?x)\")"
   ]
  },
  {
   "cell_type": "code",
   "execution_count": 7,
   "metadata": {},
   "outputs": [
    {
     "data": {
      "text/plain": [
       "['father_of', 'Barney', ['son_of', 'Barney']]"
      ]
     },
     "execution_count": 7,
     "metadata": {},
     "output_type": "execute_result"
    }
   ],
   "source": [
    "parse( \"(father_of Barney (son_of Barney))\")"
   ]
  },
  {
   "cell_type": "code",
   "execution_count": 8,
   "metadata": {},
   "outputs": [
    {
     "data": {
      "text/plain": [
       "[['son', 'barney'], ['son', '?x']]"
      ]
     },
     "execution_count": 8,
     "metadata": {},
     "output_type": "execute_result"
    }
   ],
   "source": [
    "parse(\"((son barney) (son ?x))\")"
   ]
  },
  {
   "cell_type": "markdown",
   "metadata": {},
   "source": [
    "## Unifier\n",
    "\n",
    "Here is imperative pseudocode for the algorithm:\n",
    "\n",
    "```\n",
    "def unification( exp1, exp2):\n",
    "    # base cases\n",
    "    if exp1 and exp2 are constants or the empty list:\n",
    "        if exp1 = exp2 then return {}\n",
    "        else return FAIL\n",
    "    if exp1 is a variable:\n",
    "        if exp1 occurs in exp2 then return FAIL\n",
    "        else return {exp1/exp2}\n",
    "    if exp2 is a variable:\n",
    "        if exp2 occurs in exp1 then return FAIL\n",
    "        else return {exp2/exp1}\n",
    "\n",
    "    # inductive step\n",
    "    first1 = first element of exp1\n",
    "    first2 = first element of exp2\n",
    "    result1 = unification( first1, first2)\n",
    "    if result1 = FAIL then return FAIL\n",
    "    apply result1 to rest of exp1 and exp2\n",
    "    result2 = unification( rest of exp1, rest of exp2)\n",
    "    if result2 = FAIL then return FAIL\n",
    "    return composition of result1 and result2\n",
    "```\n",
    "\n",
    "`unification` can return...\n",
    "\n",
    "1. `None` (if unification completely fails)\n",
    "2. `{}` (the empty substitution list) or \n",
    "3. a substitution list that has variables as keys and substituted values as values, like {\"?x\": \"Fred\"}. \n",
    "\n",
    "Note that the middle case sometimes confuses people...\"Sam\" unifying with \"Sam\" is not a failure so you return {} because there were no variables so there were no substitutions. You do not need to further resolve variables. If a variable resolves to an expression that contains a variable, you don't need to do the substition.\n",
    "\n",
    "If you think of a typical database table, there is a column, row and value. This Tuple is a *relation* and in some uses of unification, the \"thing\" in the first spot...\"love\" above is called the relation. If you have a table of users with user_id, username and the value then the relation is:\n",
    "\n",
    "`(login ?user_id ?username)`\n",
    "\n",
    "*most* of the time, the relation name is specified. But it's not impossible for the relation name to be represented by a variable:\n",
    "\n",
    "`(?relation 12345 \"smooth_operator\")`\n",
    "\n",
    "Your code should handle this case (the pseudocode does handle this case so all  you have to do is not futz with it).\n",
    "\n",
    "Our type system is very simple. We can get by with just a few boolean functions. The first tests to see if an expression is a variable."
   ]
  },
  {
   "cell_type": "code",
   "execution_count": 9,
   "metadata": {},
   "outputs": [],
   "source": [
    "def is_variable( exp):\n",
    "    return isinstance( exp, str) and exp[ 0] == \"?\""
   ]
  },
  {
   "cell_type": "code",
   "execution_count": 10,
   "metadata": {},
   "outputs": [
    {
     "data": {
      "text/plain": [
       "False"
      ]
     },
     "execution_count": 10,
     "metadata": {},
     "output_type": "execute_result"
    }
   ],
   "source": [
    "is_variable( \"Fred\")"
   ]
  },
  {
   "cell_type": "code",
   "execution_count": 11,
   "metadata": {},
   "outputs": [
    {
     "data": {
      "text/plain": [
       "True"
      ]
     },
     "execution_count": 11,
     "metadata": {},
     "output_type": "execute_result"
    }
   ],
   "source": [
    "is_variable( \"?fred\")"
   ]
  },
  {
   "cell_type": "markdown",
   "metadata": {},
   "source": [
    "The second tests to see if an expression is a constant:"
   ]
  },
  {
   "cell_type": "code",
   "execution_count": 12,
   "metadata": {},
   "outputs": [],
   "source": [
    "def is_constant( exp):\n",
    "    return isinstance( exp, str) and not is_variable( exp)"
   ]
  },
  {
   "cell_type": "code",
   "execution_count": 13,
   "metadata": {},
   "outputs": [
    {
     "data": {
      "text/plain": [
       "True"
      ]
     },
     "execution_count": 13,
     "metadata": {},
     "output_type": "execute_result"
    }
   ],
   "source": [
    "is_constant( \"Fred\")"
   ]
  },
  {
   "cell_type": "code",
   "execution_count": 14,
   "metadata": {},
   "outputs": [
    {
     "data": {
      "text/plain": [
       "False"
      ]
     },
     "execution_count": 14,
     "metadata": {},
     "output_type": "execute_result"
    }
   ],
   "source": [
    "is_constant( \"?fred\")"
   ]
  },
  {
   "cell_type": "code",
   "execution_count": 15,
   "metadata": {},
   "outputs": [
    {
     "data": {
      "text/plain": [
       "False"
      ]
     },
     "execution_count": 15,
     "metadata": {},
     "output_type": "execute_result"
    }
   ],
   "source": [
    "is_constant( [\"loves\", \"Fred\", \"?wife\"])"
   ]
  },
  {
   "cell_type": "markdown",
   "metadata": {},
   "source": [
    "It might also be useful to know that:\n",
    "\n",
    "<code>\n",
    "type( \"a\")\n",
    "&lt;type 'str'>\n",
    "type( \"a\") == str\n",
    "True\n",
    "type( \"a\") == list\n",
    "False\n",
    "type( [\"a\"]) == list\n",
    "True\n",
    "</code>\n",
    "\n",
    "-----"
   ]
  },
  {
   "cell_type": "markdown",
   "metadata": {},
   "source": [
    "## `occurs`\n",
    "\n",
    "### Args:\n",
    "* **var** (*any*): The variable to check for its occurrence within the expression.\n",
    "* **exp** (*any*): The expression in which to search for the variable. It can be of any type, but typically it is a list or a value.\n",
    "\n",
    "### Returns\n",
    "* **result** (*bool*): Returns `True` if `var` occurs within `exp`, or `False` otherwise.\n"
   ]
  },
  {
   "cell_type": "code",
   "execution_count": 28,
   "metadata": {},
   "outputs": [],
   "source": [
    "def occurs(var,exp):\n",
    "    if var == exp:\n",
    "        return True\n",
    "    elif isinstance(exp, list):\n",
    "        for sub_exp in exp:\n",
    "            if occurs(var,sub_exp):\n",
    "                return True\n",
    "        return False\n",
    "    return False"
   ]
  },
  {
   "cell_type": "code",
   "execution_count": 35,
   "metadata": {},
   "outputs": [],
   "source": [
    "var1 = '?x'\n",
    "exp1 = ['?y', '?z', '?x']\n",
    "expected_result1 = True\n",
    "assert occurs(var1, exp1) == expected_result1\n",
    "\n",
    "var2 = 'a'\n",
    "exp2 = ['b', ['c', 'd'], 'e']\n",
    "expected_result2 = False\n",
    "assert occurs(var2, exp2) == expected_result2\n",
    "\n",
    "var3 = 'var'\n",
    "exp3 = 'var'\n",
    "expected_result3 = True\n",
    "assert occurs(var3, exp3) == expected_result3"
   ]
  },
  {
   "cell_type": "markdown",
   "metadata": {},
   "source": [
    "## `apply_substitution`\n",
    "\n",
    "### Args:\n",
    "* **exp** (*any*): The expression to apply the substitution to. It can be a variable or a list of expressions.\n",
    "* **substitution** (*dict*): A dictionary representing the substitution, where keys are variables and values are their substitutions.\n",
    "\n",
    "### Returns\n",
    "* **result** (*any*): The resulting expression after applying the substitution. If `exp` is a list, the substitution is applied recursively to each element.\n"
   ]
  },
  {
   "cell_type": "code",
   "execution_count": 17,
   "metadata": {},
   "outputs": [],
   "source": [
    "def apply_substitution(exp, substitution):\n",
    "    if is_variable(exp):\n",
    "        return substitution.get(exp, exp)\n",
    "    elif isinstance(exp, list):\n",
    "        result = []\n",
    "        for sub_exp in exp:\n",
    "            result.append(apply_substitution(sub_exp, substitution))\n",
    "        return result\n",
    "    return exp"
   ]
  },
  {
   "cell_type": "code",
   "execution_count": null,
   "metadata": {},
   "outputs": [],
   "source": [
    "exp1 = 'x'\n",
    "substitution1 = {'x': 'value'}\n",
    "expected_result1 = 'value'\n",
    "assert apply_substitution(exp1, substitution1) == expected_result1\n",
    "\n",
    "exp2 = 'y'\n",
    "substitution2 = {'x': 'value'}\n",
    "expected_result2 = 'y' \n",
    "assert apply_substitution(exp2, substitution2) == expected_result2\n",
    "\n",
    "exp3 = ['x', 'y', 'z']\n",
    "substitution3 = {'x': 'val1', 'y': 'val2'}\n",
    "expected_result3 = ['val1', 'val2', 'z'] \n",
    "assert apply_substitution(exp3, substitution3) == expected_result3"
   ]
  },
  {
   "cell_type": "markdown",
   "metadata": {},
   "source": [
    "## `compose`\n",
    "\n",
    "### Args:\n",
    "* **substitutions1** (*dict*): The first substitution dictionary where keys are variables and values are their corresponding substitutions.\n",
    "* **substitutions2** (*dict*): The second substitution dictionary to be applied on top of `substitutions1`.\n",
    "\n",
    "### Returns\n",
    "* **composed** (*dict*): A new dictionary representing the composition of `substitutions1` and `substitutions2`, where substitutions from `substitutions2` are applied to the values of `substitutions1`.\n"
   ]
  },
  {
   "cell_type": "code",
   "execution_count": 18,
   "metadata": {},
   "outputs": [],
   "source": [
    "def compose(substitutions1:dict, substitutions2:dict) -> dict:\n",
    "    composed = substitutions1.copy()\n",
    "    composed.update(substitutions2)\n",
    "    for var in substitutions1:\n",
    "        composed[var] = apply_substitution(substitutions1[var], substitutions2)\n",
    "    return composed"
   ]
  },
  {
   "cell_type": "code",
   "execution_count": 44,
   "metadata": {},
   "outputs": [],
   "source": [
    "substitutions1 = {'x': 'a'}\n",
    "substitutions2 = {'y': 'b'}\n",
    "expected_result1 = {'x': 'a', 'y': 'b'}\n",
    "assert compose(substitutions1, substitutions2) == expected_result1\n",
    "\n",
    "substitutions1 = {'x': 'a'}\n",
    "substitutions2 = {'x': 'b', 'y': 'c'}\n",
    "expected_result2 = {'x': 'a', 'y': 'c'}\n",
    "assert (compose(substitutions1, substitutions2))  == expected_result2\n",
    "\n",
    "substitutions1 = {'x': 'y'}\n",
    "substitutions2 = {'y': 'z'}\n",
    "expected_result3 = {'x': 'y', 'y': 'z'}\n",
    "assert compose(substitutions1, substitutions2) == expected_result3"
   ]
  },
  {
   "cell_type": "markdown",
   "metadata": {},
   "source": [
    "## `list_check`\n",
    "\n",
    "### Args:\n",
    "* **parsed_expression** (*any*): The expression to be checked. It can be any data type, but typically it is either a list or a single value.\n",
    "\n",
    "### Returns\n",
    "* **result** (*list*): If `parsed_expression` is already a list, it is returned as is. Otherwise, a new list is created with `parsed_expression` as its only element.\n"
   ]
  },
  {
   "cell_type": "code",
   "execution_count": 19,
   "metadata": {},
   "outputs": [],
   "source": [
    "def list_check(parsed_expression):\n",
    "    if isinstance(parsed_expression, list):\n",
    "        return parsed_expression\n",
    "    return [parsed_expression]"
   ]
  },
  {
   "cell_type": "code",
   "execution_count": 43,
   "metadata": {},
   "outputs": [],
   "source": [
    "parsed_expression1 = ['a', 'b', 'c']\n",
    "expected_result1 = ['a', 'b', 'c']\n",
    "assert list_check(parsed_expression1) == expected_result1\n",
    "\n",
    "parsed_expression2 = 'a'\n",
    "expected_result2 = ['a']\n",
    "assert list_check(parsed_expression2) == expected_result2\n",
    "\n",
    "parsed_expression3 = 42\n",
    "expected_result3 = [42]\n",
    "assert list_check(parsed_expression3) == expected_result3"
   ]
  },
  {
   "cell_type": "markdown",
   "metadata": {},
   "source": [
    "## `unification`\n",
    "\n",
    "### Args:\n",
    "* **list_expression1** (*list or any*): The first expression to unify. It can be a list or a single variable.\n",
    "* **list_expression2** (*list or any*): The second expression to unify. It can be a list or a single variable.\n",
    "\n",
    "### Returns\n",
    "* **result** (*dict or None*): Returns a dictionary of substitutions if the unification succeeds. If unification fails, it returns `None`.\n",
    "    - An empty dictionary `{}` is returned if the two expressions are identical.\n",
    "    - If one expression is a variable and does not occur in the other, a substitution `{variable: expression}` is returned.\n",
    "    - If unification is not possible (e.g., occurs check fails, list lengths differ), it returns `None`.\n"
   ]
  },
  {
   "cell_type": "code",
   "execution_count": 20,
   "metadata": {},
   "outputs": [],
   "source": [
    "def unification( list_expression1, list_expression2):\n",
    "\n",
    "    if list_expression1 == list_expression2: \n",
    "            return {}\n",
    "    if is_variable(list_expression1):\n",
    "        if occurs(list_expression1,list_expression2):\n",
    "            return None\n",
    "        return {list_expression1: list_expression2}\n",
    "    if is_variable(list_expression2):\n",
    "        if occurs(list_expression2,list_expression1):\n",
    "            return None\n",
    "        return {list_expression2: list_expression1}\n",
    "    if len(list_expression1) == 0 or len(list_expression2) == 0:\n",
    "        return None\n",
    "    \n",
    "    if (isinstance(list_expression1, list) and isinstance(list_expression2,list) and len(list_expression1) == len(list_expression2)):\n",
    "        first1,rest1 = list_expression1[0], list_expression1[1:]\n",
    "        first2, rest2 = list_expression2[0], list_expression2[1:]\n",
    "        result1 = unification(first1, first2)\n",
    "        if result1 == None:\n",
    "            return None\n",
    "        rest1 = apply_substitution(rest1, result1)\n",
    "        rest2 = apply_substitution(rest2, result1)\n",
    "        result2 = unification(rest1, rest2)\n",
    "        if result2 == None: \n",
    "            return None \n",
    "        return compose(result1,result2)"
   ]
  },
  {
   "cell_type": "markdown",
   "metadata": {},
   "source": [
    "The `unification` pseudocode only takes lists so we have to make sure that we only pass a list.\n",
    "However, this has the side effect of making \"foo\" unify with [\"foo\"], at the start.\n",
    "That's ok."
   ]
  },
  {
   "cell_type": "code",
   "execution_count": 21,
   "metadata": {},
   "outputs": [],
   "source": [
    "def unify( s_expression1, s_expression2):\n",
    "    list_expression1 = list_check(parse(s_expression1))\n",
    "    list_expression2 = list_check(parse(s_expression2))\n",
    "    return unification( list_expression1, list_expression2)"
   ]
  },
  {
   "cell_type": "markdown",
   "metadata": {},
   "source": [
    "**Note** If you see the error,\n",
    "\n",
    "```\n",
    "tokenize.TokenError: ('EOF in multi-line statement', (2, 0))\n",
    "```\n",
    "You most likely have unbalanced parentheses in your s-expression.\n",
    "\n",
    "## Test Cases\n",
    "\n",
    "Use the expressions from the Self Check as your test cases..."
   ]
  },
  {
   "cell_type": "code",
   "execution_count": 22,
   "metadata": {},
   "outputs": [
    {
     "name": "stdout",
     "output_type": "stream",
     "text": [
      "actual = None\n",
      "expected = None\n",
      "\n",
      "\n"
     ]
    }
   ],
   "source": [
    "self_check_test_cases = [\n",
    "    ['(son Barney Barney)', '(daughter Wilma Pebbles)', None]\n",
    "]\n",
    "for case in self_check_test_cases:\n",
    "    exp1, exp2, expected = case\n",
    "    actual = unify(exp1, exp2)\n",
    "    print(f\"actual = {actual}\")\n",
    "    print(f\"expected = {expected}\")\n",
    "    print(\"\\n\")\n",
    "    assert expected == actual"
   ]
  },
  {
   "cell_type": "code",
   "execution_count": 23,
   "metadata": {},
   "outputs": [
    {
     "name": "stdout",
     "output_type": "stream",
     "text": [
      "Testing non-equal constants...\n",
      "actual = None\n",
      "expected = None\n",
      "\n",
      "\n",
      "Testing identical expressions...\n",
      "actual = {}\n",
      "expected = {}\n",
      "\n",
      "\n",
      "Testing variable unifies with constant...\n",
      "actual = {'?x': 'Augustin'}\n",
      "expected = {'?x': 'Augustin'}\n",
      "\n",
      "\n",
      "Testing variables unifies with constants...\n",
      "actual = {'?x': 'Augustin', '?y': 'Barney'}\n",
      "expected = {'?x': 'Augustin', '?y': 'Barney'}\n",
      "\n",
      "\n",
      "Testing cannot unify to same variable...\n",
      "actual = None\n",
      "expected = None\n",
      "\n",
      "\n",
      "Testing variable can unify to compound constant...\n",
      "actual = {'?x': 'Augustin', '?y': ['son', 'Barney']}\n",
      "expected = {'?x': 'Augustin', '?y': ['son', 'Barney']}\n",
      "\n",
      "\n"
     ]
    }
   ],
   "source": [
    "new_test_cases = [\n",
    "    ['(son Barney Barney)', '(daughter Wilma Pebbles)', None, \"non-equal constants\"], \n",
    "    ['(a c b)', '(a c b)', {}, \"identical expressions\"],\n",
    "    ['(son ?x)', '(son Augustin)', {'?x': 'Augustin'}, \"variable unifies with constant\"],\n",
    "    ['(son ?x brother Barney)', '(son Augustin brother ?y)', {'?x': 'Augustin', '?y':'Barney'}, \"variables unifies with constants\"],\n",
    "    ['(son ?x brother ?x)', '(son Augustin brother Barney)', None, \"cannot unify to same variable\"],\n",
    "    ['(son ?x brother ?y)', '(son Augustin brother (son Barney))', {'?x':'Augustin', '?y': ['son', 'Barney']}, \"variable can unify to compound constant\"]\n",
    "]\n",
    "for case in new_test_cases:\n",
    "    exp1, exp2, expected, message = case\n",
    "    actual = unify(exp1, exp2)\n",
    "    print(f\"Testing {message}...\")\n",
    "    print(f\"actual = {actual}\")\n",
    "    print(f\"expected = {expected}\")\n",
    "    print(\"\\n\")\n",
    "    assert expected == actual"
   ]
  }
 ],
 "metadata": {
  "kernelspec": {
   "display_name": "en605645",
   "language": "python",
   "name": "python3"
  },
  "language_info": {
   "codemirror_mode": {
    "name": "ipython",
    "version": 3
   },
   "file_extension": ".py",
   "mimetype": "text/x-python",
   "name": "python",
   "nbconvert_exporter": "python",
   "pygments_lexer": "ipython3",
   "version": "3.11.9"
  },
  "toc": {
   "colors": {
    "hover_highlight": "#DAA520",
    "navigate_num": "#000000",
    "navigate_text": "#333333",
    "running_highlight": "#FF0000",
    "selected_highlight": "#FFD700",
    "sidebar_border": "#EEEEEE",
    "wrapper_background": "#FFFFFF"
   },
   "moveMenuLeft": true,
   "nav_menu": {
    "height": "120px",
    "width": "252px"
   },
   "navigate_menu": true,
   "number_sections": true,
   "sideBar": true,
   "threshold": 4,
   "toc_cell": false,
   "toc_section_display": "block",
   "toc_window_display": false,
   "widenNotebook": false
  }
 },
 "nbformat": 4,
 "nbformat_minor": 4
}
